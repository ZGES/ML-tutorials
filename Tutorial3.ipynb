{
 "cells": [
  {
   "cell_type": "markdown",
   "metadata": {},
   "source": [
    "# SVM w praktyce"
   ]
  },
  {
   "cell_type": "markdown",
   "metadata": {},
   "source": [
    "Zbiór WBreastCancer - przypomnienie\n",
    "\n",
    "Zbiór <a href=\"https://archive.ics.uci.edu/ml/datasets/Breast+Cancer+Wisconsin+%28Diagnostic%29\"><b>Breast Cancer Wisconsin (Diagnostic) Data Set</b></a> dotyczy klasyfikacji raka piersi jako złośliwego bądź łagodnego na podstawie pomiarów jąder komórkowych uzyskanych ze zdjęć pobranej masy.  \n",
    "\n",
    "Dla każdego przypadku oprócz identyfikatora pacjenta oraz diagnozy podane są zmierzone wartości dotyczące jąder komórkowych. Mierzonych cech jest 10, natomiast dla każdej z nich podana jest najpierw wartość średnia, następnie wartość błędu standardowego, a na koniec najgorsza ze zmierzonych wartości, co daje w sumie 30 cech.  \n",
    "\n",
    "Wszystkich przypadków jest 569"
   ]
  },
  {
   "cell_type": "code",
   "execution_count": 87,
   "metadata": {},
   "outputs": [],
   "source": [
    "import numpy as np\n",
    "import pandas as pd\n",
    "import warnings\n",
    "warnings.simplefilter(action='ignore', category=FutureWarning)\n",
    "\n",
    "from sklearn.datasets import load_breast_cancer\n",
    "cancer = load_breast_cancer()"
   ]
  },
  {
   "cell_type": "code",
   "execution_count": 88,
   "metadata": {},
   "outputs": [
    {
     "data": {
      "text/html": [
       "<div>\n",
       "<style scoped>\n",
       "    .dataframe tbody tr th:only-of-type {\n",
       "        vertical-align: middle;\n",
       "    }\n",
       "\n",
       "    .dataframe tbody tr th {\n",
       "        vertical-align: top;\n",
       "    }\n",
       "\n",
       "    .dataframe thead th {\n",
       "        text-align: right;\n",
       "    }\n",
       "</style>\n",
       "<table border=\"1\" class=\"dataframe\">\n",
       "  <thead>\n",
       "    <tr style=\"text-align: right;\">\n",
       "      <th></th>\n",
       "      <th>diagnosis</th>\n",
       "      <th>mean radius</th>\n",
       "      <th>mean texture</th>\n",
       "      <th>mean perimeter</th>\n",
       "      <th>mean area</th>\n",
       "      <th>mean smoothness</th>\n",
       "      <th>mean compactness</th>\n",
       "      <th>mean concavity</th>\n",
       "      <th>mean concave points</th>\n",
       "      <th>mean symmetry</th>\n",
       "      <th>...</th>\n",
       "      <th>worst radius</th>\n",
       "      <th>worst texture</th>\n",
       "      <th>worst perimeter</th>\n",
       "      <th>worst area</th>\n",
       "      <th>worst smoothness</th>\n",
       "      <th>worst compactness</th>\n",
       "      <th>worst concavity</th>\n",
       "      <th>worst concave points</th>\n",
       "      <th>worst symmetry</th>\n",
       "      <th>worst fractal dimension</th>\n",
       "    </tr>\n",
       "  </thead>\n",
       "  <tbody>\n",
       "    <tr>\n",
       "      <th>0</th>\n",
       "      <td>0.0</td>\n",
       "      <td>17.99</td>\n",
       "      <td>10.38</td>\n",
       "      <td>122.80</td>\n",
       "      <td>1001.0</td>\n",
       "      <td>0.11840</td>\n",
       "      <td>0.27760</td>\n",
       "      <td>0.3001</td>\n",
       "      <td>0.14710</td>\n",
       "      <td>0.2419</td>\n",
       "      <td>...</td>\n",
       "      <td>25.38</td>\n",
       "      <td>17.33</td>\n",
       "      <td>184.60</td>\n",
       "      <td>2019.0</td>\n",
       "      <td>0.1622</td>\n",
       "      <td>0.6656</td>\n",
       "      <td>0.7119</td>\n",
       "      <td>0.2654</td>\n",
       "      <td>0.4601</td>\n",
       "      <td>0.11890</td>\n",
       "    </tr>\n",
       "    <tr>\n",
       "      <th>1</th>\n",
       "      <td>0.0</td>\n",
       "      <td>20.57</td>\n",
       "      <td>17.77</td>\n",
       "      <td>132.90</td>\n",
       "      <td>1326.0</td>\n",
       "      <td>0.08474</td>\n",
       "      <td>0.07864</td>\n",
       "      <td>0.0869</td>\n",
       "      <td>0.07017</td>\n",
       "      <td>0.1812</td>\n",
       "      <td>...</td>\n",
       "      <td>24.99</td>\n",
       "      <td>23.41</td>\n",
       "      <td>158.80</td>\n",
       "      <td>1956.0</td>\n",
       "      <td>0.1238</td>\n",
       "      <td>0.1866</td>\n",
       "      <td>0.2416</td>\n",
       "      <td>0.1860</td>\n",
       "      <td>0.2750</td>\n",
       "      <td>0.08902</td>\n",
       "    </tr>\n",
       "    <tr>\n",
       "      <th>2</th>\n",
       "      <td>0.0</td>\n",
       "      <td>19.69</td>\n",
       "      <td>21.25</td>\n",
       "      <td>130.00</td>\n",
       "      <td>1203.0</td>\n",
       "      <td>0.10960</td>\n",
       "      <td>0.15990</td>\n",
       "      <td>0.1974</td>\n",
       "      <td>0.12790</td>\n",
       "      <td>0.2069</td>\n",
       "      <td>...</td>\n",
       "      <td>23.57</td>\n",
       "      <td>25.53</td>\n",
       "      <td>152.50</td>\n",
       "      <td>1709.0</td>\n",
       "      <td>0.1444</td>\n",
       "      <td>0.4245</td>\n",
       "      <td>0.4504</td>\n",
       "      <td>0.2430</td>\n",
       "      <td>0.3613</td>\n",
       "      <td>0.08758</td>\n",
       "    </tr>\n",
       "    <tr>\n",
       "      <th>3</th>\n",
       "      <td>0.0</td>\n",
       "      <td>11.42</td>\n",
       "      <td>20.38</td>\n",
       "      <td>77.58</td>\n",
       "      <td>386.1</td>\n",
       "      <td>0.14250</td>\n",
       "      <td>0.28390</td>\n",
       "      <td>0.2414</td>\n",
       "      <td>0.10520</td>\n",
       "      <td>0.2597</td>\n",
       "      <td>...</td>\n",
       "      <td>14.91</td>\n",
       "      <td>26.50</td>\n",
       "      <td>98.87</td>\n",
       "      <td>567.7</td>\n",
       "      <td>0.2098</td>\n",
       "      <td>0.8663</td>\n",
       "      <td>0.6869</td>\n",
       "      <td>0.2575</td>\n",
       "      <td>0.6638</td>\n",
       "      <td>0.17300</td>\n",
       "    </tr>\n",
       "    <tr>\n",
       "      <th>4</th>\n",
       "      <td>0.0</td>\n",
       "      <td>20.29</td>\n",
       "      <td>14.34</td>\n",
       "      <td>135.10</td>\n",
       "      <td>1297.0</td>\n",
       "      <td>0.10030</td>\n",
       "      <td>0.13280</td>\n",
       "      <td>0.1980</td>\n",
       "      <td>0.10430</td>\n",
       "      <td>0.1809</td>\n",
       "      <td>...</td>\n",
       "      <td>22.54</td>\n",
       "      <td>16.67</td>\n",
       "      <td>152.20</td>\n",
       "      <td>1575.0</td>\n",
       "      <td>0.1374</td>\n",
       "      <td>0.2050</td>\n",
       "      <td>0.4000</td>\n",
       "      <td>0.1625</td>\n",
       "      <td>0.2364</td>\n",
       "      <td>0.07678</td>\n",
       "    </tr>\n",
       "  </tbody>\n",
       "</table>\n",
       "<p>5 rows × 31 columns</p>\n",
       "</div>"
      ],
      "text/plain": [
       "   diagnosis  mean radius  mean texture  mean perimeter  mean area  \\\n",
       "0        0.0        17.99         10.38          122.80     1001.0   \n",
       "1        0.0        20.57         17.77          132.90     1326.0   \n",
       "2        0.0        19.69         21.25          130.00     1203.0   \n",
       "3        0.0        11.42         20.38           77.58      386.1   \n",
       "4        0.0        20.29         14.34          135.10     1297.0   \n",
       "\n",
       "   mean smoothness  mean compactness  mean concavity  mean concave points  \\\n",
       "0          0.11840           0.27760          0.3001              0.14710   \n",
       "1          0.08474           0.07864          0.0869              0.07017   \n",
       "2          0.10960           0.15990          0.1974              0.12790   \n",
       "3          0.14250           0.28390          0.2414              0.10520   \n",
       "4          0.10030           0.13280          0.1980              0.10430   \n",
       "\n",
       "   mean symmetry  ...  worst radius  worst texture  worst perimeter  \\\n",
       "0         0.2419  ...         25.38          17.33           184.60   \n",
       "1         0.1812  ...         24.99          23.41           158.80   \n",
       "2         0.2069  ...         23.57          25.53           152.50   \n",
       "3         0.2597  ...         14.91          26.50            98.87   \n",
       "4         0.1809  ...         22.54          16.67           152.20   \n",
       "\n",
       "   worst area  worst smoothness  worst compactness  worst concavity  \\\n",
       "0      2019.0            0.1622             0.6656           0.7119   \n",
       "1      1956.0            0.1238             0.1866           0.2416   \n",
       "2      1709.0            0.1444             0.4245           0.4504   \n",
       "3       567.7            0.2098             0.8663           0.6869   \n",
       "4      1575.0            0.1374             0.2050           0.4000   \n",
       "\n",
       "   worst concave points  worst symmetry  worst fractal dimension  \n",
       "0                0.2654          0.4601                  0.11890  \n",
       "1                0.1860          0.2750                  0.08902  \n",
       "2                0.2430          0.3613                  0.08758  \n",
       "3                0.2575          0.6638                  0.17300  \n",
       "4                0.1625          0.2364                  0.07678  \n",
       "\n",
       "[5 rows x 31 columns]"
      ]
     },
     "execution_count": 88,
     "metadata": {},
     "output_type": "execute_result"
    }
   ],
   "source": [
    "# podgląd danych\n",
    "\n",
    "df_cancer = pd.DataFrame(data = np.concatenate((cancer['target'].reshape((569,1)),cancer['data']), axis=1), \n",
    "                         columns=np.concatenate((['diagnosis'], cancer['feature_names'])))\n",
    "df_cancer.head()"
   ]
  },
  {
   "cell_type": "markdown",
   "metadata": {},
   "source": [
    "0.0 - nowotwór jest złośliwy\n",
    "\n",
    "1.0 - nowotwór nie jest złośliwy"
   ]
  },
  {
   "cell_type": "code",
   "execution_count": 89,
   "metadata": {},
   "outputs": [],
   "source": [
    "data_cancer_x = cancer['data']\n",
    "data_cancer_y = cancer['target']"
   ]
  },
  {
   "cell_type": "markdown",
   "metadata": {},
   "source": [
    "Wizualizacja danych - użycie PCA do przetransformowania danych z 30 wymiarów do dwóch:"
   ]
  },
  {
   "cell_type": "code",
   "execution_count": 90,
   "metadata": {},
   "outputs": [],
   "source": [
    "# konieczna dla przeprowadzenia PCA standaryzacja danych:\n",
    "\n",
    "from sklearn.preprocessing import StandardScaler\n",
    "scaler = StandardScaler()\n",
    "scaler.fit(data_cancer_x)\n",
    "scaled_data = scaler.transform(data_cancer_x) "
   ]
  },
  {
   "cell_type": "code",
   "execution_count": 91,
   "metadata": {},
   "outputs": [],
   "source": [
    "from sklearn.decomposition import PCA\n",
    "pca = PCA(n_components=2)\n",
    "pca.fit(scaled_data)\n",
    "pca_data = pca.transform(scaled_data)"
   ]
  },
  {
   "cell_type": "code",
   "execution_count": 92,
   "metadata": {},
   "outputs": [
    {
     "data": {
      "image/png": "[encoded data removed]",
      "text/plain": [
       "<Figure size 864x648 with 1 Axes>"
      ]
     },
     "metadata": {
      "needs_background": "light"
     },
     "output_type": "display_data"
    }
   ],
   "source": [
    "import matplotlib.pyplot as plt\n",
    "plt.figure(figsize=(12,9))\n",
    "plt.scatter(pca_data[:,0],pca_data[:,1],c=data_cancer_y,cmap='rainbow')\n",
    "plt.xlabel('First principal component')\n",
    "plt.ylabel('Second Principal Component')\n",
    "plt.show()"
   ]
  },
  {
   "cell_type": "markdown",
   "metadata": {},
   "source": [
    "Pokażemy teraz działanie SVM, próbując rozdzielić dane uzyskane poprzez zastosowanie PCA za pomocą linii:"
   ]
  },
  {
   "cell_type": "code",
   "execution_count": 93,
   "metadata": {},
   "outputs": [],
   "source": [
    "# przygotowanie danych - \"1\" dla złośliwych nowotworów, \"-1\" dla niezłośliwych\n",
    "\n",
    "new_y = []\n",
    "for val in data_cancer_y:\n",
    "    if(val == 1.0):\n",
    "        new_y.append(-1)\n",
    "    else:\n",
    "        new_y.append(1)\n",
    "new_y = np.array(new_y)"
   ]
  },
  {
   "cell_type": "code",
   "execution_count": 25,
   "metadata": {},
   "outputs": [
    {
     "ename": "NameError",
     "evalue": "name 'pca_data' is not defined",
     "output_type": "error",
     "traceback": [
      "\u001b[1;31m---------------------------------------------------------------------------\u001b[0m",
      "\u001b[1;31mNameError\u001b[0m                                 Traceback (most recent call last)",
      "\u001b[1;32m<ipython-input-25-9dc16a83afb2>\u001b[0m in \u001b[0;36m<module>\u001b[1;34m\u001b[0m\n\u001b[0;32m      4\u001b[0m \u001b[1;31m# tasowanie danych i rozdzielenie na training oraz test sets\u001b[0m\u001b[1;33m\u001b[0m\u001b[1;33m\u001b[0m\u001b[1;33m\u001b[0m\u001b[0m\n\u001b[0;32m      5\u001b[0m \u001b[1;33m\u001b[0m\u001b[0m\n\u001b[1;32m----> 6\u001b[1;33m \u001b[0mX\u001b[0m\u001b[1;33m,\u001b[0m \u001b[0my\u001b[0m \u001b[1;33m=\u001b[0m \u001b[0mshuffle\u001b[0m\u001b[1;33m(\u001b[0m\u001b[0mpca_data\u001b[0m\u001b[1;33m,\u001b[0m \u001b[0mnew_y\u001b[0m\u001b[1;33m)\u001b[0m\u001b[1;33m\u001b[0m\u001b[1;33m\u001b[0m\u001b[0m\n\u001b[0m\u001b[0;32m      7\u001b[0m \u001b[0mx_train\u001b[0m\u001b[1;33m,\u001b[0m \u001b[0mx_test\u001b[0m\u001b[1;33m,\u001b[0m \u001b[0my_train\u001b[0m\u001b[1;33m,\u001b[0m \u001b[0my_test\u001b[0m \u001b[1;33m=\u001b[0m \u001b[0mtrain_test_split\u001b[0m\u001b[1;33m(\u001b[0m\u001b[0mX\u001b[0m\u001b[1;33m,\u001b[0m \u001b[0my\u001b[0m\u001b[1;33m,\u001b[0m \u001b[0mtest_size\u001b[0m\u001b[1;33m=\u001b[0m\u001b[1;36m0.1\u001b[0m\u001b[1;33m)\u001b[0m\u001b[1;33m\u001b[0m\u001b[1;33m\u001b[0m\u001b[0m\n\u001b[0;32m      8\u001b[0m \u001b[0my_train\u001b[0m \u001b[1;33m=\u001b[0m \u001b[0my_train\u001b[0m\u001b[1;33m.\u001b[0m\u001b[0mreshape\u001b[0m\u001b[1;33m(\u001b[0m\u001b[1;33m(\u001b[0m\u001b[0my_train\u001b[0m\u001b[1;33m.\u001b[0m\u001b[0mshape\u001b[0m\u001b[1;33m[\u001b[0m\u001b[1;36m0\u001b[0m\u001b[1;33m]\u001b[0m\u001b[1;33m,\u001b[0m\u001b[1;36m1\u001b[0m\u001b[1;33m)\u001b[0m\u001b[1;33m)\u001b[0m\u001b[1;33m\u001b[0m\u001b[1;33m\u001b[0m\u001b[0m\n",
      "\u001b[1;31mNameError\u001b[0m: name 'pca_data' is not defined"
     ]
    }
   ],
   "source": [
    "from sklearn.utils import shuffle\n",
    "from sklearn.model_selection import train_test_split\n",
    "\n",
    "# tasowanie danych i rozdzielenie na training oraz test sets\n",
    "\n",
    "X, y = shuffle(pca_data, new_y)\n",
    "x_train, x_test, y_train, y_test = train_test_split(X, y, test_size=0.1)\n",
    "y_train = y_train.reshape((y_train.shape[0],1))\n",
    "y_test = y_test.reshape(y_test.shape[0],1)"
   ]
  },
  {
   "cell_type": "markdown",
   "metadata": {},
   "source": [
    "Funkcja, którą będziemy chcieli rozdzielić dane, ma postać y = wx + b.\n",
    "\n",
    "Dla uproszczenia prezentacji matematyki stojącej za działaniem SVM, każda z wag w oraz bias b są osobnymi zmiennymi.\n",
    "\n",
    "Używana przez nas funkcja straty - hinge loss - ma postać:\n",
    "\n",
    "$ c(x,y,f(x)) = max(0, 1 - y * f(x)) $\n",
    "\n",
    "Po dodaniu parametru lambda, odpowiadającego za regularyzację, funkcja kosztu ma postać:\n",
    "\n",
    "min<sub>w</sub> &lambda; ||w||<sup>2</sup> + &sum;(1 - y<sub>i</sub> <x<sub>i</sub>, w>)<sub>+</sub>\n",
    "\n",
    "Aby znaleźć gradient, należy policzyć pochodne cząstkowe funkcji kosztu względem wag. Mając obliczony gradient, można aktualizować wagi.\n",
    "\n",
    "Więcej informacji: https://towardsdatascience.com/support-vector-machine-introduction-to-machine-learning-algorithms-934a444fca47"
   ]
  },
  {
   "cell_type": "code",
   "execution_count": 95,
   "metadata": {},
   "outputs": [
    {
     "name": "stdout",
     "output_type": "stream",
     "text": [
      "1\n",
      "2\n",
      "3\n",
      "4\n",
      "5\n",
      "6\n",
      "7\n",
      "8\n",
      "9\n",
      "10\n",
      "11\n",
      "12\n",
      "13\n",
      "14\n",
      "15\n",
      "16\n",
      "17\n",
      "18\n",
      "19\n",
      "20\n",
      "21\n",
      "22\n",
      "23\n",
      "24\n",
      "25\n",
      "26\n",
      "27\n",
      "28\n",
      "29\n",
      "30\n",
      "31\n",
      "32\n",
      "33\n",
      "34\n",
      "35\n",
      "36\n",
      "37\n",
      "38\n",
      "39\n",
      "40\n",
      "41\n",
      "42\n",
      "43\n",
      "44\n",
      "45\n",
      "46\n",
      "47\n",
      "48\n",
      "49\n",
      "50\n",
      "51\n",
      "52\n",
      "53\n",
      "54\n",
      "55\n",
      "56\n",
      "57\n",
      "58\n",
      "59\n",
      "60\n",
      "61\n",
      "62\n",
      "63\n",
      "64\n",
      "65\n",
      "66\n",
      "67\n",
      "68\n",
      "69\n",
      "70\n",
      "71\n",
      "72\n",
      "73\n",
      "74\n",
      "75\n",
      "76\n",
      "77\n",
      "78\n",
      "79\n",
      "80\n",
      "81\n",
      "82\n",
      "83\n",
      "84\n",
      "85\n",
      "86\n",
      "87\n",
      "88\n",
      "89\n",
      "90\n",
      "91\n",
      "92\n",
      "93\n",
      "94\n",
      "95\n",
      "96\n",
      "97\n",
      "98\n",
      "99\n",
      "100\n",
      "101\n",
      "102\n",
      "103\n",
      "104\n",
      "105\n",
      "106\n",
      "107\n",
      "108\n",
      "109\n",
      "110\n",
      "111\n",
      "112\n",
      "113\n",
      "114\n",
      "115\n",
      "116\n",
      "117\n",
      "118\n",
      "119\n",
      "120\n",
      "121\n",
      "122\n",
      "123\n",
      "124\n",
      "125\n",
      "126\n",
      "127\n",
      "128\n",
      "129\n",
      "130\n",
      "131\n",
      "132\n",
      "133\n",
      "134\n",
      "135\n",
      "136\n",
      "137\n",
      "138\n",
      "139\n",
      "140\n",
      "141\n",
      "142\n",
      "143\n",
      "144\n",
      "145\n",
      "146\n",
      "147\n",
      "148\n",
      "149\n",
      "150\n",
      "151\n",
      "152\n",
      "153\n",
      "154\n",
      "155\n",
      "156\n",
      "157\n",
      "158\n",
      "159\n",
      "160\n",
      "161\n",
      "162\n",
      "163\n",
      "164\n",
      "165\n",
      "166\n",
      "167\n",
      "168\n",
      "169\n",
      "170\n",
      "171\n",
      "172\n",
      "173\n",
      "174\n",
      "175\n",
      "176\n",
      "177\n",
      "178\n",
      "179\n",
      "180\n",
      "181\n",
      "182\n",
      "183\n",
      "184\n",
      "185\n",
      "186\n",
      "187\n",
      "188\n",
      "189\n",
      "190\n",
      "191\n",
      "192\n",
      "193\n",
      "194\n",
      "195\n",
      "196\n",
      "197\n",
      "198\n",
      "199\n",
      "200\n",
      "201\n",
      "202\n",
      "203\n",
      "204\n",
      "205\n",
      "206\n",
      "207\n",
      "208\n",
      "209\n",
      "210\n",
      "211\n",
      "212\n",
      "213\n",
      "214\n",
      "215\n",
      "216\n",
      "217\n",
      "218\n",
      "219\n",
      "220\n",
      "221\n",
      "222\n",
      "223\n",
      "224\n",
      "225\n",
      "226\n",
      "227\n",
      "228\n",
      "229\n",
      "230\n",
      "231\n",
      "232\n",
      "233\n",
      "234\n",
      "235\n",
      "236\n",
      "237\n",
      "238\n",
      "239\n",
      "240\n",
      "241\n",
      "242\n",
      "243\n",
      "244\n",
      "245\n",
      "246\n",
      "247\n",
      "248\n",
      "249\n",
      "250\n",
      "251\n",
      "252\n",
      "253\n",
      "254\n",
      "255\n",
      "256\n",
      "257\n",
      "258\n",
      "259\n",
      "260\n",
      "261\n",
      "262\n",
      "263\n",
      "264\n",
      "265\n",
      "266\n",
      "267\n",
      "268\n",
      "269\n",
      "270\n",
      "271\n",
      "272\n",
      "273\n",
      "274\n",
      "275\n",
      "276\n",
      "277\n",
      "278\n",
      "279\n",
      "280\n",
      "281\n",
      "282\n",
      "283\n",
      "284\n",
      "285\n",
      "286\n",
      "287\n",
      "288\n",
      "289\n",
      "290\n",
      "291\n",
      "292\n",
      "293\n",
      "294\n",
      "295\n",
      "296\n",
      "297\n",
      "298\n",
      "299\n",
      "300\n",
      "301\n",
      "302\n",
      "303\n",
      "304\n",
      "305\n",
      "306\n",
      "307\n",
      "308\n",
      "309\n",
      "310\n",
      "311\n",
      "312\n",
      "313\n",
      "314\n",
      "315\n",
      "316\n",
      "317\n",
      "318\n",
      "319\n",
      "320\n",
      "321\n",
      "322\n",
      "323\n",
      "324\n",
      "325\n",
      "326\n",
      "327\n",
      "328\n",
      "329\n",
      "330\n",
      "331\n",
      "332\n",
      "333\n",
      "334\n",
      "335\n",
      "336\n",
      "337\n",
      "338\n",
      "339\n",
      "340\n",
      "341\n",
      "342\n",
      "343\n",
      "344\n",
      "345\n",
      "346\n",
      "347\n",
      "348\n",
      "349\n",
      "350\n",
      "351\n",
      "352\n",
      "353\n",
      "354\n",
      "355\n",
      "356\n",
      "357\n",
      "358\n",
      "359\n",
      "360\n",
      "361\n",
      "362\n",
      "363\n",
      "364\n",
      "365\n",
      "366\n",
      "367\n",
      "368\n",
      "369\n",
      "370\n",
      "371\n",
      "372\n",
      "373\n",
      "374\n",
      "375\n",
      "376\n",
      "377\n",
      "378\n",
      "379\n",
      "380\n",
      "381\n",
      "382\n",
      "383\n",
      "384\n",
      "385\n",
      "386\n",
      "387\n",
      "388\n",
      "389\n",
      "390\n",
      "391\n",
      "392\n",
      "393\n",
      "394\n",
      "395\n",
      "396\n",
      "397\n",
      "398\n",
      "399\n",
      "400\n",
      "401\n",
      "402\n",
      "403\n",
      "404\n",
      "405\n",
      "406\n",
      "407\n",
      "408\n",
      "409\n",
      "410\n",
      "411\n",
      "412\n",
      "413\n",
      "414\n",
      "415\n",
      "416\n",
      "417\n",
      "418\n",
      "419\n",
      "420\n",
      "421\n",
      "422\n",
      "423\n",
      "424\n",
      "425\n",
      "426\n",
      "427\n",
      "428\n",
      "429\n",
      "430\n",
      "431\n",
      "432\n",
      "433\n",
      "434\n",
      "435\n",
      "436\n",
      "437\n",
      "438\n",
      "439\n",
      "440\n",
      "441\n",
      "442\n",
      "443\n",
      "444\n",
      "445\n",
      "446\n",
      "447\n",
      "448\n",
      "449\n",
      "450\n",
      "451\n",
      "452\n",
      "453\n",
      "454\n",
      "455\n",
      "456\n",
      "457\n",
      "458\n",
      "459\n",
      "460\n",
      "461\n",
      "462\n",
      "463\n",
      "464\n",
      "465\n",
      "466\n",
      "467\n",
      "468\n",
      "469\n",
      "470\n",
      "471\n",
      "472\n",
      "473\n",
      "474\n",
      "475\n",
      "476\n",
      "477\n",
      "478\n",
      "479\n",
      "480\n",
      "481\n",
      "482\n",
      "483\n",
      "484\n",
      "485\n",
      "486\n",
      "487\n",
      "488\n",
      "489\n",
      "490\n",
      "491\n",
      "492\n",
      "493\n",
      "494\n",
      "495\n",
      "496\n",
      "497\n",
      "498\n",
      "499\n",
      "500\n",
      "501\n",
      "502\n",
      "503\n",
      "504\n",
      "505\n",
      "506\n",
      "507\n",
      "508\n",
      "509\n",
      "510\n",
      "511\n",
      "512\n",
      "513\n",
      "514\n",
      "515\n",
      "516\n",
      "517\n",
      "518\n",
      "519\n",
      "520\n",
      "521\n",
      "522\n",
      "523\n",
      "524\n",
      "525\n",
      "526\n",
      "527\n",
      "528\n",
      "529\n",
      "530\n",
      "531\n",
      "532\n",
      "533\n",
      "534\n",
      "535\n",
      "536\n",
      "537\n",
      "538\n",
      "539\n",
      "540\n",
      "541\n",
      "542\n",
      "543\n",
      "544\n",
      "545\n",
      "546\n",
      "547\n",
      "548\n",
      "549\n",
      "550\n",
      "551\n",
      "552\n",
      "553\n",
      "554\n",
      "555\n",
      "556\n",
      "557\n",
      "558\n",
      "559\n",
      "560\n",
      "561\n",
      "562\n",
      "563\n",
      "564\n",
      "565\n",
      "566\n",
      "567\n",
      "568\n",
      "569\n",
      "570\n",
      "571\n",
      "572\n",
      "573\n",
      "574\n",
      "575\n",
      "576\n",
      "577\n",
      "578\n",
      "579\n",
      "580\n",
      "581\n",
      "582\n",
      "583\n",
      "584\n",
      "585\n",
      "586\n",
      "587\n",
      "588\n",
      "589\n",
      "590\n",
      "591\n",
      "592\n",
      "593\n",
      "594\n",
      "595\n",
      "596\n",
      "597\n",
      "598\n",
      "599\n",
      "600\n",
      "601\n",
      "602\n",
      "603\n",
      "604\n",
      "605\n",
      "606\n",
      "607\n",
      "608\n",
      "609\n",
      "610\n",
      "611\n",
      "612\n",
      "613\n",
      "614\n",
      "615\n",
      "616\n",
      "617\n",
      "618\n",
      "619\n",
      "620\n",
      "621\n",
      "622\n",
      "623\n",
      "624\n",
      "625\n",
      "626\n",
      "627\n",
      "628\n",
      "629\n",
      "630\n",
      "631\n",
      "632\n",
      "633\n",
      "634\n",
      "635\n",
      "636\n",
      "637\n",
      "638\n",
      "639\n",
      "640\n",
      "641\n",
      "642\n",
      "643\n",
      "644\n",
      "645\n",
      "646\n",
      "647\n",
      "648\n",
      "649\n",
      "650\n",
      "651\n",
      "652\n",
      "653\n",
      "654\n",
      "655\n",
      "656\n",
      "657\n",
      "658\n",
      "659\n",
      "660\n",
      "661\n",
      "662\n",
      "663\n",
      "664\n",
      "665\n",
      "666\n",
      "667\n",
      "668\n",
      "669\n",
      "670\n",
      "671\n",
      "672\n",
      "673\n",
      "674\n",
      "675\n",
      "676\n",
      "677\n",
      "678\n",
      "679\n",
      "680\n",
      "681\n",
      "682\n",
      "683\n",
      "684\n",
      "685\n",
      "686\n",
      "687\n",
      "688\n",
      "689\n",
      "690\n",
      "691\n",
      "692\n",
      "693\n",
      "694\n",
      "695\n",
      "696\n",
      "697\n",
      "698\n",
      "699\n",
      "700\n",
      "701\n",
      "702\n",
      "703\n",
      "704\n",
      "705\n",
      "706\n",
      "707\n",
      "708\n",
      "709\n",
      "710\n",
      "711\n",
      "712\n",
      "713\n",
      "714\n",
      "715\n",
      "716\n",
      "717\n",
      "718\n",
      "719\n",
      "720\n",
      "721\n",
      "722\n",
      "723\n",
      "724\n",
      "725\n",
      "726\n",
      "727\n",
      "728\n",
      "729\n",
      "730\n",
      "731\n",
      "732\n",
      "733\n",
      "734\n",
      "735\n",
      "736\n",
      "737\n",
      "738\n",
      "739\n",
      "740\n",
      "741\n",
      "742\n",
      "743\n",
      "744\n",
      "745\n",
      "746\n",
      "747\n",
      "748\n",
      "749\n",
      "750\n",
      "751\n",
      "752\n",
      "753\n",
      "754\n",
      "755\n",
      "756\n",
      "757\n",
      "758\n",
      "759\n",
      "760\n",
      "761\n",
      "762\n",
      "763\n",
      "764\n",
      "765\n",
      "766\n",
      "767\n",
      "768\n",
      "769\n",
      "770\n",
      "771\n",
      "772\n",
      "773\n",
      "774\n",
      "775\n",
      "776\n",
      "777\n",
      "778\n",
      "779\n",
      "780\n",
      "781\n",
      "782\n",
      "783\n",
      "784\n",
      "785\n",
      "786\n",
      "787\n",
      "788\n",
      "789\n",
      "790\n",
      "791\n",
      "792\n",
      "793\n",
      "794\n",
      "795\n",
      "796\n",
      "797\n",
      "798\n",
      "799\n",
      "800\n",
      "801\n",
      "802\n",
      "803\n",
      "804\n",
      "805\n",
      "806\n",
      "807\n",
      "808\n",
      "809\n",
      "810\n",
      "811\n",
      "812\n",
      "813\n",
      "814\n",
      "815\n",
      "816\n",
      "817\n",
      "818\n",
      "819\n",
      "820\n",
      "821\n",
      "822\n",
      "823\n",
      "824\n",
      "825\n",
      "826\n",
      "827\n",
      "828\n",
      "829\n",
      "830\n",
      "831\n",
      "832\n",
      "833\n",
      "834\n",
      "835\n",
      "836\n",
      "837\n",
      "838\n",
      "839\n",
      "840\n",
      "841\n",
      "842\n",
      "843\n",
      "844\n",
      "845\n",
      "846\n",
      "847\n",
      "848\n",
      "849\n",
      "850\n",
      "851\n",
      "852\n",
      "853\n",
      "854\n",
      "855\n",
      "856\n",
      "857\n",
      "858\n",
      "859\n",
      "860\n",
      "861\n",
      "862\n",
      "863\n",
      "864\n",
      "865\n",
      "866\n",
      "867\n",
      "868\n",
      "869\n",
      "870\n",
      "871\n",
      "872\n",
      "873\n",
      "874\n",
      "875\n",
      "876\n",
      "877\n",
      "878\n",
      "879\n",
      "880\n",
      "881\n",
      "882\n",
      "883\n",
      "884\n",
      "885\n",
      "886\n",
      "887\n",
      "888\n",
      "889\n",
      "890\n",
      "891\n",
      "892\n",
      "893\n",
      "894\n",
      "895\n",
      "896\n",
      "897\n",
      "898\n",
      "899\n",
      "900\n",
      "901\n",
      "902\n",
      "903\n",
      "904\n",
      "905\n",
      "906\n",
      "907\n",
      "908\n",
      "909\n",
      "910\n",
      "911\n",
      "912\n",
      "913\n",
      "914\n",
      "915\n",
      "916\n",
      "917\n",
      "918\n",
      "919\n",
      "920\n",
      "921\n",
      "922\n",
      "923\n",
      "924\n",
      "925\n",
      "926\n",
      "927\n",
      "928\n",
      "929\n",
      "930\n",
      "931\n",
      "932\n",
      "933\n",
      "934\n",
      "935\n",
      "936\n",
      "937\n",
      "938\n",
      "939\n",
      "940\n",
      "941\n",
      "942\n",
      "943\n",
      "944\n",
      "945\n",
      "946\n",
      "947\n",
      "948\n",
      "949\n",
      "950\n",
      "951\n",
      "952\n",
      "953\n",
      "954\n",
      "955\n",
      "956\n",
      "957\n",
      "958\n",
      "959\n",
      "960\n",
      "961\n",
      "962\n",
      "963\n",
      "964\n",
      "965\n",
      "966\n",
      "967\n",
      "968\n",
      "969\n",
      "970\n",
      "971\n",
      "972\n",
      "973\n",
      "974\n",
      "975\n",
      "976\n",
      "977\n",
      "978\n",
      "979\n",
      "980\n",
      "981\n",
      "982\n",
      "983\n",
      "984\n",
      "985\n",
      "986\n",
      "987\n",
      "988\n",
      "989\n",
      "990\n",
      "991\n",
      "992\n",
      "993\n",
      "994\n",
      "995\n",
      "996\n",
      "997\n",
      "998\n",
      "999\n"
     ]
    }
   ],
   "source": [
    "# SVM\n",
    "\n",
    "train_f0 = np.ones((x_train.shape[0], 1))\n",
    "train_f1 = x_train[:,0]\n",
    "train_f2 = x_train[:,1]\n",
    "\n",
    "train_f1 = train_f1.reshape(train_f1.shape[0],1)\n",
    "train_f2 = train_f2.reshape(train_f2.shape[0],1)\n",
    "\n",
    "b = 0\n",
    "w1 = 0\n",
    "w2 = 0\n",
    "\n",
    "epochs = 1\n",
    "alpha = 0.0001\n",
    "\n",
    "while(epochs < 1000):\n",
    "    y = w1 * train_f1 + w2 * train_f2 + b * train_f0  # obliczamy wartość funkcji y\n",
    "    prod = y * y_train  # sprawdzenie poprawności klasyfikacji - potrzebne do określenia wartości funkcji hinge loss\n",
    "    print(epochs)\n",
    "    count = 0\n",
    "    for val in prod: # określanie wartości funkcji hinge loss, aktualizacja parametrów\n",
    "        if(val >= 1):\n",
    "            cost = 0\n",
    "            # w = w - alpha * (2 * lambda * w) - poprawna klasyfikacja, aktualizacja wag ze względu na \n",
    "            # gradient regularyzacji\n",
    "            b = b - alpha * (2 * 1/epochs * b)\n",
    "            w1 = w1 - alpha * (2 * 1/epochs * w1)\n",
    "            w2 = w2 - alpha * (2 * 1/epochs * w2)\n",
    "            \n",
    "        else:\n",
    "            cost = 1 - val \n",
    "            # w = w + alpha * (x_i * y_i - 2 * lambda * w) - niepoprawna klasyfikacja, \n",
    "            # uwzględnienie również gradientu funkcji straty\n",
    "            b = b + alpha * (train_f0[count] * y_train[count] - 2 * 1/epochs * b)\n",
    "            w1 = w1 + alpha * (train_f1[count] * y_train[count] - 2 * 1/epochs * w1)\n",
    "            w2 = w2 + alpha * (train_f2[count] * y_train[count] - 2 * 1/epochs * w2)\n",
    "\n",
    "        count += 1\n",
    "    epochs += 1"
   ]
  },
  {
   "cell_type": "markdown",
   "metadata": {},
   "source": [
    "Jak można zauważyć, w powyższym kodzie alpha pełni funkcję learning rate, natomiast wartość parametru lambda jest ustawiona na 1/epochs (a więc maleje w miarę wzrostu liczby epok).\n",
    "\n",
    "Sprawdźmy teraz, jak nasz wytrenowany klasyfikator poradzi sobie ze zbiorem testowym:"
   ]
  },
  {
   "cell_type": "code",
   "execution_count": 96,
   "metadata": {},
   "outputs": [
    {
     "name": "stdout",
     "output_type": "stream",
     "text": [
      "0.8947368421052632\n"
     ]
    }
   ],
   "source": [
    "from sklearn.metrics import accuracy_score\n",
    "\n",
    "test_f0 = np.ones((x_test.shape[0], 1))\n",
    "test_f1 = x_test[:,0]\n",
    "test_f2 = x_test[:,1]\n",
    "\n",
    "test_f1 = test_f1.reshape(x_test.shape[0],1)\n",
    "test_f2 = test_f2.reshape(x_test.shape[0],1)\n",
    "\n",
    "# Predykcja\n",
    "y_pred = w1 * test_f1 + w2 * test_f2 + b * test_f0\n",
    "predictions = []\n",
    "for val in y_pred:\n",
    "    if(val > 1):\n",
    "        predictions.append(1)\n",
    "    else:\n",
    "        predictions.append(-1)\n",
    "\n",
    "print(accuracy_score(y_test,predictions))"
   ]
  },
  {
   "cell_type": "markdown",
   "metadata": {},
   "source": [
    "Oczywiście, można również wykorzystać gotowe implementacje SVM. Można w tym celu użyć scikit-learn:"
   ]
  },
  {
   "cell_type": "code",
   "execution_count": 97,
   "metadata": {},
   "outputs": [
    {
     "name": "stdout",
     "output_type": "stream",
     "text": [
      "0.9122807017543859\n"
     ]
    }
   ],
   "source": [
    "from sklearn.svm import SVC\n",
    "from sklearn.metrics import accuracy_score\n",
    "\n",
    "y_train = y_train.reshape((y_train.shape[0],))\n",
    "clf = SVC(kernel='linear', )\n",
    "clf.fit(x_train,y_train)\n",
    "y_pred = clf.predict(x_test)\n",
    "print(accuracy_score(y_test, y_pred))"
   ]
  },
  {
   "cell_type": "markdown",
   "metadata": {},
   "source": [
    "Sprawdźmy teraz, jak poradzi sobie SVM dla danych bez PCA:"
   ]
  },
  {
   "cell_type": "code",
   "execution_count": 98,
   "metadata": {},
   "outputs": [],
   "source": [
    "X, y = shuffle(data_cancer_x, data_cancer_y)\n",
    "x_train, x_test, y_train, y_test = train_test_split(X, y, test_size=0.1)"
   ]
  },
  {
   "cell_type": "code",
   "execution_count": 99,
   "metadata": {},
   "outputs": [
    {
     "name": "stdout",
     "output_type": "stream",
     "text": [
      "0.9649122807017544\n"
     ]
    }
   ],
   "source": [
    "y_train = y_train.reshape((y_train.shape[0],))\n",
    "clf = SVC(kernel='linear', )\n",
    "clf.fit(x_train,y_train)\n",
    "y_pred = clf.predict(x_test)\n",
    "print(accuracy_score(y_test, y_pred))"
   ]
  },
  {
   "cell_type": "markdown",
   "metadata": {},
   "source": [
    "sklearn.svm.SVC pozwala na dobieranie kernela oraz parametrów uczenia.\n",
    "\n",
    "Możliwe kernele to: ‘linear’, ‘poly’, ‘rbf’, ‘sigmoid’, ‘precomputed’ albo kernel stworzony przez siebie.\n",
    "\n",
    "Najważniejsze parametry uczenia, których wartości można dobierać, to:\n",
    "- C: parametr służący do regularyzacji, proporcjonalny do 1/lambda. Musi być liczbą dodatnią (default=1.0)\n",
    "- degree: stopień wielomianu (przy użyciu kernela 'poly')\n",
    "- gamma: współczynnik dla kerneli 'rbf', 'poly', 'sigmoid' ze zbioru {'scale', 'auto'} albo float (default='scale')\n",
    "- coef0: wartość \"r\" dla kerneli 'poly' i 'sigmoid', float (default=0.0)\n",
    "\n",
    "(szczegóły: https://scikit-learn.org/stable/modules/generated/sklearn.svm.SVC.html )\n",
    "\n",
    "Prześledźmy użycie SVM dla zbioru MNIST oraz różnych kerneli i wartości parametrów C:\n"
   ]
  },
  {
   "cell_type": "code",
   "execution_count": 100,
   "metadata": {},
   "outputs": [],
   "source": [
    "import tensorflow as tf\n",
    "from sklearn.utils import resample\n",
    "\n",
    "(x_train, y_train), (x_test, y_test) = tf.keras.datasets.mnist.load_data()\n",
    "x_train, y_train = resample(x_train, y_train, n_samples=500, replace=False, random_state=0)\n",
    "x_test, y_test = resample(x_test, y_test, n_samples=100, replace=False, random_state=0)\n",
    "x_train = x_train.reshape((x_train.shape[0],-1))\n",
    "x_test = x_test.reshape((x_test.shape[0],-1))"
   ]
  },
  {
   "cell_type": "code",
   "execution_count": 101,
   "metadata": {},
   "outputs": [],
   "source": [
    "from sklearn.preprocessing import StandardScaler\n",
    "\n",
    "scaler_mnist = StandardScaler().fit(x_train)\n",
    "x_train = scaler_mnist.transform(x_train)\n",
    "x_test = scaler_mnist.transform(x_test)"
   ]
  },
  {
   "cell_type": "code",
   "execution_count": 102,
   "metadata": {},
   "outputs": [
    {
     "name": "stdout",
     "output_type": "stream",
     "text": [
      "kernel=linear, C=0.001000, score=0.830000\n",
      "kernel=linear, C=0.010000, score=0.780000\n",
      "kernel=linear, C=0.100000, score=0.800000\n",
      "kernel=linear, C=1.000000, score=0.800000\n",
      "kernel=linear, C=10.000000, score=0.800000\n",
      "kernel=linear, C=100.000000, score=0.800000\n",
      "kernel=linear, C=1000.000000, score=0.800000\n",
      "kernel=poly, C=0.001000, score=0.110000\n",
      "kernel=poly, C=0.010000, score=0.110000\n",
      "kernel=poly, C=0.100000, score=0.140000\n",
      "kernel=poly, C=1.000000, score=0.380000\n",
      "kernel=poly, C=10.000000, score=0.720000\n",
      "kernel=poly, C=100.000000, score=0.740000\n",
      "kernel=poly, C=1000.000000, score=0.740000\n",
      "kernel=rbf, C=0.001000, score=0.100000\n",
      "kernel=rbf, C=0.010000, score=0.100000\n",
      "kernel=rbf, C=0.100000, score=0.390000\n",
      "kernel=rbf, C=1.000000, score=0.810000\n",
      "kernel=rbf, C=10.000000, score=0.810000\n",
      "kernel=rbf, C=100.000000, score=0.810000\n",
      "kernel=rbf, C=1000.000000, score=0.810000\n",
      "kernel=sigmoid, C=0.001000, score=0.100000\n",
      "kernel=sigmoid, C=0.010000, score=0.100000\n",
      "kernel=sigmoid, C=0.100000, score=0.650000\n",
      "kernel=sigmoid, C=1.000000, score=0.850000\n",
      "kernel=sigmoid, C=10.000000, score=0.750000\n",
      "kernel=sigmoid, C=100.000000, score=0.710000\n",
      "kernel=sigmoid, C=1000.000000, score=0.710000\n"
     ]
    }
   ],
   "source": [
    "for kernel in ['linear', 'poly', 'rbf', 'sigmoid']:\n",
    "    for C in [0.001, 0.01, 0.1, 1, 10, 100, 1000]:\n",
    "        clf = SVC(C=C, kernel=kernel, )\n",
    "        clf.fit(x_train,y_train)\n",
    "        y_pred = clf.predict(x_test)\n",
    "        score = accuracy_score(y_test, y_pred)\n",
    "        print('kernel=%s, C=%f, score=%f' %(kernel, C, score))"
   ]
  },
  {
   "cell_type": "markdown",
   "metadata": {},
   "source": [
    "## Zadanie:"
   ]
  },
  {
   "cell_type": "markdown",
   "metadata": {},
   "source": [
    "Na podstawie powyższych eksperymentów, dobierz odpowiedni kernel i parametry uczenia dla wybranego przez siebie zbioru danych. Nie ograniczaj się przy tym wyłącznie do dobierania wartości C, poeksperymentuj również z parametrami charakterystycznymi dla odpowiednich kerneli."
   ]
  },
  {
   "cell_type": "code",
   "execution_count": 162,
   "metadata": {},
   "outputs": [],
   "source": [
    "import tensorflow as tf\n",
    "(x_train, y_train), (x_test, y_test) = tf.keras.datasets.fashion_mnist.load_data()"
   ]
  },
  {
   "cell_type": "code",
   "execution_count": 163,
   "metadata": {},
   "outputs": [],
   "source": [
    "from sklearn.utils import resample\n",
    "x_train, y_train = resample(x_train, y_train, n_samples=500, replace=False, random_state=0)\n",
    "x_test, y_test = resample(x_test, y_test, n_samples=100, replace=False, random_state=0)\n",
    "x_train = x_train.reshape((x_train.shape[0],-1))\n",
    "x_test = x_test.reshape((x_test.shape[0],-1))"
   ]
  },
  {
   "cell_type": "code",
   "execution_count": 164,
   "metadata": {},
   "outputs": [],
   "source": [
    "from sklearn.preprocessing import StandardScaler\n",
    "\n",
    "scaler_mnist = StandardScaler().fit(x_train)\n",
    "x_train = scaler_mnist.transform(x_train)\n",
    "x_test = scaler_mnist.transform(x_test)"
   ]
  },
  {
   "cell_type": "code",
   "execution_count": 234,
   "metadata": {},
   "outputs": [
    {
     "name": "stdout",
     "output_type": "stream",
     "text": [
      "kernel=poly, C=1.000000, score=0.830000\n"
     ]
    }
   ],
   "source": [
    "from sklearn.svm import SVC\n",
    "from sklearn.metrics import accuracy_score\n",
    "\n",
    "kernel = 'poly'\n",
    "C = 1\n",
    "degree = 5\n",
    "gamma = 'scale'\n",
    "coef0 = 1.0\n",
    "clf = SVC(C = C, kernel = kernel, degree = degree, gamma = gamma, coef0 = coef0)\n",
    "clf.fit(x_train,y_train)\n",
    "y_pred = clf.predict(x_test)\n",
    "score = accuracy_score(y_test, y_pred)\n",
    "print('kernel=%s, C=%f, score=%f' %(kernel, C, score))"
   ]
  },
  {
   "cell_type": "markdown",
   "metadata": {},
   "source": [
    "# Walidacja klasyfikacji"
   ]
  },
  {
   "cell_type": "markdown",
   "metadata": {},
   "source": [
    "Podczas ewaluacji różnych ustawień hiperparametrów dla estymatorów, takich jak ustawienie *C* które musi zostać manualnie ustawione dla SVM, istnieje ryzyko **overfittingu** na zbiorze testowym, ponieważ parametry mogą być modyfikowane dopóki estymator nie będzie zachowywał się optymalnie. \n",
    "Poprzez to, wiedza o modelu testowym może \"przedostać\" się do modelu. W taki sposób model \"dopasowuje\" się do konretnego zbioru testowego. \n",
    "Aby uniknąć takiego problemu dane można podzielić na zbiór treningowy, testowy oraz walidacyny. \n",
    "* Trenowanie modelu odbywa się na **zbiorze treningowym**.\n",
    "* Po wytrenowaniu modelu wykonywana jest ewaluacja na **zbiorze walidacyjnym**, aby ostateczne hiperparametry wybrać w oparciu o wynik na zbiorze walidacyjnym.\n",
    "* Ostatecznie odbywa się ewaluacja na **zbiorze testowym**, wówczas wynik na zbiorze testowym daje wiarygodne oszacowanie jakości modelu dla nowych danych.  "
   ]
  },
  {
   "cell_type": "markdown",
   "metadata": {},
   "source": [
    "### Podsumowując:\n",
    "**Zbiór wlidacyjny** - służy do wyboru hiperparametrów, stosowany aby uniknąć dopasowania modelu do danych testowych  \n",
    "**Zbiór testowy** - służy do testowania jakości modelu"
   ]
  },
  {
   "cell_type": "markdown",
   "metadata": {},
   "source": [
    "## Cross Validation"
   ]
  },
  {
   "cell_type": "markdown",
   "metadata": {},
   "source": [
    "Dzieląc dane na trzy zestway, drestycznie zmiejszamy liczbę próbek, które możemy wykorzystać do nauki modelu, a wyniki mogą zależeć od losowego wyboru zbioru treningowego i walidacyjnego.  Roziązaniem tego problemu jest **cross-validation** (w skrócie CV). Zestaw testowy powinien być trzymany do ostatecznej oceny modelu, natomiast zestaw walidacyjny nie jest potrzebny gdy użyjemy CV.  \n",
    "W podstawowym podejściu zwanym **k-fold CV**, zestaw treningowy jest dzielony na *k* mniejszych zestawów.  \n",
    "Następnie k-krotnie stosuje się procedurę:  \n",
    "* Trenujemy model przy wykorzystaniu *k-1* mniejszych zestawów danych.\n",
    "\n",
    "Wynikowy model jest sprawdzany na danych treningowych. "
   ]
  },
  {
   "cell_type": "markdown",
   "metadata": {},
   "source": [
    "W skrócie:  \n",
    "**cross-validation** - umożliwienia przeprowadznenie walidacji bez wyodrębnionego zbioru walidacyjnego."
   ]
  },
  {
   "cell_type": "markdown",
   "metadata": {},
   "source": [
    "Najprostszym użyciem cross-validation jest funkcja **cross_val_score**.  \n",
    "  \n",
    "Jako wynik otrzymujemy tablicę z wynikami precyzji, wyniki są dla każdego podzialu danych (dla każdego k).  \n",
    "  \n",
    "W ***cross_val_score*** możemy stosować różne miary precyzji estymatora. Aby zastosować daną miarę precyzji należy użyć dodatkowy parametr ***scoring***. Domyślną miarą precyzji jest *accuracy*."
   ]
  },
  {
   "cell_type": "code",
   "execution_count": null,
   "metadata": {},
   "outputs": [],
   "source": [
    "from sklearn.model_selection import cross_val_score"
   ]
  },
  {
   "cell_type": "code",
   "execution_count": null,
   "metadata": {},
   "outputs": [],
   "source": [
    "X, y = shuffle(data_cancer_x, data_cancer_y)\n",
    "x_train, x_test, y_train, y_test = train_test_split(X, y, test_size=0.1)\n",
    "y_train = y_train.reshape((y_train.shape[0],))\n",
    "clf = SVC(kernel='linear')\n",
    "clf.fit(x_train, y_train)\n",
    "y_pred = clf.predict(x_test)"
   ]
  },
  {
   "cell_type": "markdown",
   "metadata": {},
   "source": [
    "Dla przykładu, wyznaczamy wartości *accuracy* dopasowanego modelu w 5-krotnej cross-walidacji."
   ]
  },
  {
   "cell_type": "code",
   "execution_count": null,
   "metadata": {},
   "outputs": [],
   "source": [
    "accuracy = cross_val_score(clf, x_train, y_train, cv=5)\n",
    "accuracy"
   ]
  },
  {
   "cell_type": "markdown",
   "metadata": {},
   "source": [
    "### Accuracy"
   ]
  },
  {
   "cell_type": "markdown",
   "metadata": {},
   "source": [
    "**Accuracy** - jest to najprostszy wynik jakości klasyfikacji\n",
    "  \n",
    "$accuracy = \\frac{M}{N},$\n",
    "  \n",
    "Gdzie:  \n",
    "M - ilość dobrze sklasyfikowanych próbek  \n",
    "N - ilość wszystkich próbek  "
   ]
  },
  {
   "cell_type": "markdown",
   "metadata": {},
   "source": [
    "Przykład:"
   ]
  },
  {
   "cell_type": "code",
   "execution_count": null,
   "metadata": {},
   "outputs": [],
   "source": [
    "from sklearn.metrics import accuracy_score\n",
    "accuracy = accuracy_score(y_test,y_pred)\n",
    "print('Accuracy score: {0:0.2f}'.format(accuracy)) "
   ]
  },
  {
   "cell_type": "markdown",
   "metadata": {},
   "source": [
    "## Loss"
   ]
  },
  {
   "cell_type": "markdown",
   "metadata": {},
   "source": [
    "Log loss nazywane równie regresją logarytmiczną lub cross-entropy loss, jest zdefiniowania na podstawie oszacowań prawdopodobieństwa. Jest powszechnie używana w sieciach neuronowych, może być używana do oceny wyników prawdopodobieństwa (predict_proba) klasyfikatora zamiast jego prognoz.\n",
    "\n",
    "W przypadku klasyfikacji binarnej z prawdziwą etykietą $ y \\in {0,1} $ i oszacowaniem prawdopodobieństwa $ p = \\operatorname{Pr} (y = 1) $, wówczas log loss:\n",
    "\n",
    "$L_{\\log}(y, p) = -\\log \\operatorname{Pr}(y|p) = -(y \\log (p) + (1 - y) \\log (1 - p))$\n",
    "\n",
    "W przypadku wieloklasowym:\n",
    "Niech prawdziwe etykiety danych będą zakodowane jako macierz binarna 1-of-K $ Y $, tj. $ y_{i, k} = 1 $, jeśli próbka $i$ ma etykietę $k$ pobraną z zestawu etykiet $K$. Niech $P$ będzie macierzą oszacowań prawdopodobieństwa, przy czym $ p_{i, k} = \\operatorname {Pr} (t_ {i, k} = 1) $. Wówczas log loss: \n",
    "\n",
    "$L_{\\log}(Y, P) = -\\log \\operatorname{Pr}(Y|P) = - \\frac{1}{N} \\sum_{i=0}^{N-1} \\sum_{k=0}^{K-1} y_{i,k} \\log p_{i,k}$\n",
    "\n",
    "\n",
    "Aby zobaczyć, w jaki sposób uogólnia to binary log loss podaną powyżej, zauważ, że w przypadku binarnym $p_{i,0} = 1 - p_{i,1}$  and $y_{i,0} = 1 - y_{i,1}$, więc powiększenie wewnętrznej sumy o $y_{i,k} \\in \\{0,1\\}$ powoduje binary log loss.\n",
    "\n",
    "Funkcja *log_loss* oblicza log loss, biorąc pod uwagę listę ground-truth labels i macierz prawdopodobieństwa, zwrócone przez metodę prognostyczną estymatora.\n"
   ]
  },
  {
   "cell_type": "markdown",
   "metadata": {},
   "source": [
    "Prościej mówiąc:  \n",
    "Log loss mierzy wydajność klasyfikatora, w którym dane wejściowe są wartością prawdopodobieństwa między 0 a 1. Celem modeli jest zminimalizowanie tej wartości. Idealny model miałby log loss równy 0. Log loss wzrasta, gdy przewidywane prawdopodobieństwo odbiega od rzeczywistej etykiety. Zatem przewidywanie prawdopodobieństwa 0.012, gdy rzeczywista etykieta obserwacji wynosi 1, byłoby złe i spowodowałoby wysoki log loss. \n"
   ]
  },
  {
   "cell_type": "code",
   "execution_count": null,
   "metadata": {
    "scrolled": true
   },
   "outputs": [],
   "source": [
    "from sklearn.metrics import log_loss\n",
    "loss = log_loss(y_test,y_pred)\n",
    "print('Loss score: {0:0.2f}'.format(loss)) "
   ]
  },
  {
   "cell_type": "markdown",
   "metadata": {},
   "source": [
    "## Precision/recall"
   ]
  },
  {
   "cell_type": "markdown",
   "metadata": {},
   "source": [
    "Niedoskonałością miary jakości *accuracy* są niezrównoważone klasy. Jeśli jedna z klas stanowi zdecydowaną więkoszość np. 90% wszystkich przypadków, to estymator który zawsze będzie zwracał tą klasę osiągnie dokładność 0.90. \n",
    "\n",
    "Rozwiązaniem problemu jest miara *precision* i *recall*:  \n",
    "\n",
    "$precision = \\frac{\\#TP}{\\#TP + \\#FP},$\n",
    "\n",
    "$recall = \\frac{\\#TP}{\\#TP + \\#FN},$\n",
    "\n",
    "gdzie:\n",
    " - TP - *true positives* (klasy które zostały dobrze sklasyfikowane)\n",
    " - FP - *false positives* (klasy 0 sklasyfikowane jako 1)\n",
    " - FN - *false negatives* (klasy 1 sklasyfikowane jako 0)\n"
   ]
  },
  {
   "cell_type": "code",
   "execution_count": null,
   "metadata": {},
   "outputs": [],
   "source": [
    "from sklearn.metrics import average_precision_score\n",
    "average_precision = average_precision_score(y_test, y_pred)\n",
    "print('Precision-recall score: {0:0.2f}'.format(average_precision))"
   ]
  },
  {
   "cell_type": "markdown",
   "metadata": {},
   "source": [
    "## F1"
   ]
  },
  {
   "cell_type": "markdown",
   "metadata": {},
   "source": [
    "F1 jest przydatne gdy chcemy zbalansować różnice pomiędzy Precision and Recall. Można to interpretować jako śrenią ważoną precision and recall, gdzie wynik F1 osiąga najlepszą wartośc przy 1 a najgorszą przy 0. Względny wkład w wynik F1 dla precision oraz recall jest równy:  \n",
    "  \n",
    "$F1 = \\frac{2}{\\frac{1}{precision} + \\frac{1}{recall}}$\n",
    "\n",
    "Podsumowując F1 służy do zbalansowania Precision and Recall."
   ]
  },
  {
   "cell_type": "code",
   "execution_count": null,
   "metadata": {},
   "outputs": [],
   "source": [
    "from sklearn.metrics import f1_score\n",
    "f1 = f1_score(y_test,y_pred)\n",
    "print('F1 score: {0:0.2f}'.format(average_precision))"
   ]
  },
  {
   "cell_type": "markdown",
   "metadata": {},
   "source": [
    "## Krzywa Precision/Recall"
   ]
  },
  {
   "cell_type": "markdown",
   "metadata": {},
   "source": [
    "Krzywą precision-recall wykreślamy dla danej klasy. Podobnie jak liczymy precision i recall dla klasy. Domyślnie w większości bibliotek rysowana jest dla klasy pozytywnej. Na osi X odkładamy policzone wartości recall a na osi Y precision.  "
   ]
  },
  {
   "cell_type": "markdown",
   "metadata": {},
   "source": [
    "### Interpretacja krzywej precision-recall"
   ]
  },
  {
   "cell_type": "markdown",
   "metadata": {},
   "source": [
    "Zacznijmy od przypadku najgorszego. Niech nasz klasyfikator działa losowo. Gdy stosunek klas pozytywnej do negatywnej wynosi 1:1 to wykres będzie przebiegał mniej więcej na wysokości 0.5 (50% szans trafienia poprawnej klasy).  \n",
    "  \n",
    "W przypaku idealnym precision dla różnych wartości recall powinno wynosić 1. Zwiększając kolejno próg będziemy otrzymywać poprawne rozpoznanie, jedyne co będzie się zmieniać to recall, będzie się ono zmniejszać"
   ]
  },
  {
   "cell_type": "markdown",
   "metadata": {},
   "source": [
    "### Tworzenie krzywej precision-recall"
   ]
  },
  {
   "cell_type": "code",
   "execution_count": null,
   "metadata": {},
   "outputs": [],
   "source": [
    "from sklearn.metrics import precision_recall_curve\n",
    "from sklearn.metrics import plot_precision_recall_curve\n",
    "import matplotlib.pyplot as plt\n",
    "\n",
    "disp = plot_precision_recall_curve(clf, x_test, y_test)\n",
    "disp.ax_.set_title('2-class Precision-Recall curve: '\n",
    "                   'AP={0:0.2f}'.format(average_precision))"
   ]
  },
  {
   "cell_type": "markdown",
   "metadata": {},
   "source": [
    "## Krzywa ROC"
   ]
  },
  {
   "cell_type": "markdown",
   "metadata": {},
   "source": [
    "Krzywa ROC jest to kolejny ze sposobów wizualizacji jakości klasyfikacji, pokazujący zależności wskaźników TPR (True Positive Rate) oraz FPR (False Positive Rate)."
   ]
  },
  {
   "cell_type": "markdown",
   "metadata": {},
   "source": [
    "### Interpretacja krzywej ROC"
   ]
  },
  {
   "cell_type": "markdown",
   "metadata": {},
   "source": [
    "Jakość klasyfikacji za pomocą krzywej ROC można ocenić wyliczając takie wskaźniki jak:\n",
    "\n",
    "* **Pole pod krzywą (AUC)**\n",
    "\n",
    "Im większe AUC tym lepiej: \n",
    "* AUC = 1 (klasyfikator idealny), \n",
    "* AUC = 0.5 (klasyfikator losowy), \n",
    "* AUC < 0.5 (nieprawidłowy klasyfikator (gorszy niż losowy)).\n",
    "  \n",
    "Upraszczając: \n",
    "Im wykres bardziej ”wypukły”, tym lepszy klasyfikator. "
   ]
  },
  {
   "cell_type": "markdown",
   "metadata": {},
   "source": [
    "### Tworzenie krzywej ROC"
   ]
  },
  {
   "cell_type": "code",
   "execution_count": null,
   "metadata": {},
   "outputs": [],
   "source": [
    "from sklearn.model_selection import StratifiedKFold\n",
    "from sklearn.metrics import auc\n",
    "from sklearn.metrics import plot_roc_curve\n",
    "from numpy import interp\n",
    "\n",
    "tprs = []\n",
    "aucs = []\n",
    "mean_fpr = np.linspace(0, 1, 100)\n",
    "\n",
    "fig, ax = plt.subplots()\n",
    "\n",
    "viz = plot_roc_curve(clf, x_test, y_test,\n",
    "                         name='ROC',\n",
    "                         alpha=0.3, lw=1, ax=ax)\n",
    "\n",
    "interp_tpr = interp(mean_fpr, viz.fpr, viz.tpr)\n",
    "interp_tpr[0] = 0.0\n",
    "tprs.append(interp_tpr)\n",
    "aucs.append(viz.roc_auc)\n",
    "\n",
    "ax.plot([0, 1], [0, 1], linestyle='--', lw=2, color='r',\n",
    "        label='Chance', alpha=.8)\n",
    "\n",
    "mean_tpr = np.mean(tprs, axis=0)\n",
    "mean_tpr[-1] = 1.0\n",
    "mean_auc = auc(mean_fpr, mean_tpr)\n",
    "std_auc = np.std(aucs)\n",
    "ax.plot(mean_fpr, mean_tpr, color='b',\n",
    "        label=r'Mean ROC (AUC = %0.2f $\\pm$ %0.2f)' % (mean_auc, std_auc),\n",
    "        lw=2, alpha=.8)\n",
    "\n",
    "std_tpr = np.std(tprs, axis=0)\n",
    "tprs_upper = np.minimum(mean_tpr + std_tpr, 1)\n",
    "tprs_lower = np.maximum(mean_tpr - std_tpr, 0)\n",
    "ax.fill_between(mean_fpr, tprs_lower, tprs_upper, color='grey', alpha=.2,\n",
    "                label=r'$\\pm$ 1 std. dev.')\n",
    "\n",
    "ax.set(xlim=[-0.05, 1.05], ylim=[-0.05, 1.05],\n",
    "       title=\"ROC\")\n",
    "ax.legend(loc=\"lower right\")\n",
    "plt.show()"
   ]
  },
  {
   "cell_type": "markdown",
   "metadata": {},
   "source": [
    "# Zadania"
   ]
  },
  {
   "cell_type": "markdown",
   "metadata": {},
   "source": [
    "a) Na zbiorach MNIST, FMNIST, TNG (twenty news groups) zaprezentować działanie\n",
    "klasyfikatora SVM i wyniki porównać do klasyfikatora k-NN przy pomocy poznanych miar\n",
    "walidacji klasyfikacji. (dla najlepszej konfiguracji, stałej uczenia, funkcji kernela)\n",
    "\n",
    "b) Zaproponować, taką augmentację zbiorów treningowych (wielkość zbioru zależna od\n",
    "mocy obliczeniowej którą Państwo dysponują) aby uzyskać jak najlepsze miary jakości na\n",
    "zbiorach testowych."
   ]
  },
  {
   "cell_type": "markdown",
   "metadata": {},
   "source": [
    "a)"
   ]
  },
  {
   "cell_type": "markdown",
   "metadata": {},
   "source": [
    "# MNIST"
   ]
  },
  {
   "cell_type": "code",
   "execution_count": 1,
   "metadata": {},
   "outputs": [],
   "source": [
    "import tensorflow as tf\n",
    "from sklearn.utils import resample\n",
    "(x_train, y_train), (x_test, y_test) = tf.keras.datasets.mnist.load_data()\n",
    "x_train = x_train.reshape(x_train.shape[0],-1)\n",
    "x_test = x_test.reshape(x_test.shape[0],-1)\n",
    "\n",
    "x_train, y_train = resample(x_train, y_train, n_samples=600, replace=False, random_state=0)\n",
    "x_test, y_test = resample(x_test, y_test, n_samples=400, replace=False, random_state=0)"
   ]
  },
  {
   "cell_type": "code",
   "execution_count": 2,
   "metadata": {
    "scrolled": true
   },
   "outputs": [
    {
     "name": "stdout",
     "output_type": "stream",
     "text": [
      "kernel=linear, C=0.010000, score=0.850000\n",
      "kernel=linear, C=0.100000, score=0.850000\n",
      "kernel=linear, C=1.000000, score=0.850000\n",
      "kernel=linear, C=10.000000, score=0.850000\n",
      "kernel=poly, C=0.010000, degree=2, score=0.112500\n",
      "kernel=poly, C=0.010000, degree=3, score=0.120000\n",
      "kernel=poly, C=0.010000, degree=4, score=0.127500\n",
      "kernel=poly, C=0.100000, degree=2, score=0.662500\n",
      "kernel=poly, C=0.100000, degree=3, score=0.515000\n",
      "kernel=poly, C=0.100000, degree=4, score=0.427500\n",
      "kernel=poly, C=1.000000, degree=2, score=0.862500\n",
      "kernel=poly, C=1.000000, degree=3, score=0.785000\n",
      "kernel=poly, C=1.000000, degree=4, score=0.712500\n",
      "kernel=poly, C=10.000000, degree=2, score=0.852500\n",
      "kernel=poly, C=10.000000, degree=3, score=0.810000\n",
      "kernel=poly, C=10.000000, degree=4, score=0.747500\n",
      "kernel=sigmoid, C=0.010000, coef0=0.000000, score=0.100000\n",
      "kernel=sigmoid, C=0.010000, coef0=0.500000, score=0.100000\n",
      "kernel=sigmoid, C=0.010000, coef0=1.000000, score=0.100000\n",
      "kernel=sigmoid, C=0.100000, coef0=0.000000, score=0.545000\n",
      "kernel=sigmoid, C=0.100000, coef0=0.500000, score=0.372500\n",
      "kernel=sigmoid, C=0.100000, coef0=1.000000, score=0.100000\n",
      "kernel=sigmoid, C=1.000000, coef0=0.000000, score=0.842500\n",
      "kernel=sigmoid, C=1.000000, coef0=0.500000, score=0.817500\n",
      "kernel=sigmoid, C=1.000000, coef0=1.000000, score=0.742500\n",
      "kernel=sigmoid, C=10.000000, coef0=0.000000, score=0.772500\n",
      "kernel=sigmoid, C=10.000000, coef0=0.500000, score=0.772500\n",
      "kernel=sigmoid, C=10.000000, coef0=1.000000, score=0.777500\n"
     ]
    }
   ],
   "source": [
    "#SVM\n",
    "from sklearn.svm import SVC\n",
    "from sklearn.metrics import accuracy_score\n",
    "\n",
    "for C in [0.01, 0.1, 1.0, 10.0]:\n",
    "    clf = SVC(C=C, kernel='linear')\n",
    "    clf.fit(x_train,y_train)\n",
    "    y_pred = clf.predict(x_test)\n",
    "    score = accuracy_score(y_test, y_pred)\n",
    "    print('kernel=linear, C=%f, score=%f' %(C, score))\n",
    "    \n",
    "for C in [0.01, 0.1, 1.0, 10.0]:\n",
    "    for degree in [2,3,4]:\n",
    "        clf = SVC(C=C, kernel='poly', degree=degree)\n",
    "        clf.fit(x_train,y_train)\n",
    "        y_pred = clf.predict(x_test)\n",
    "        score = accuracy_score(y_test, y_pred)\n",
    "        print('kernel=poly, C=%f, degree=%d, score=%f' %(C, degree, score))\n",
    "    \n",
    "for C in [0.01, 0.1, 1.0, 10.0]:\n",
    "    for coef0 in [0.0,0.5,1.0]:\n",
    "        clf = SVC(C=C, kernel='sigmoid', coef0=coef0)\n",
    "        clf.fit(x_train,y_train)\n",
    "        y_pred = clf.predict(x_test)\n",
    "        score = accuracy_score(y_test, y_pred)\n",
    "        print('kernel=sigmoid, C=%f, coef0=%f, score=%f' %(C, coef0, score))"
   ]
  },
  {
   "cell_type": "code",
   "execution_count": 3,
   "metadata": {},
   "outputs": [
    {
     "name": "stdout",
     "output_type": "stream",
     "text": [
      "kernel=linear, C=1.000000, score=0.862500\n"
     ]
    }
   ],
   "source": [
    "#accuracy\n",
    "C=1.0\n",
    "clf = SVC(C=C, kernel='poly', degree=2)\n",
    "clf.fit(x_train,y_train)\n",
    "y_pred = clf.predict(x_test)\n",
    "score = accuracy_score(y_test, y_pred)\n",
    "print('kernel=linear, C=%f, score=%f' %(C, score))"
   ]
  },
  {
   "cell_type": "code",
   "execution_count": 4,
   "metadata": {},
   "outputs": [
    {
     "data": {
      "text/plain": [
       "array([0.91666667, 0.86956522, 0.83076923, 0.88888889, 0.90598291,\n",
       "       0.73076923, 0.91891892, 0.83146067, 0.85714286, 0.81081081])"
      ]
     },
     "execution_count": 4,
     "metadata": {},
     "output_type": "execute_result"
    }
   ],
   "source": [
    "#f1\n",
    "from sklearn.metrics import f1_score\n",
    "import numpy as np\n",
    "f1_score(y_true=y_test, y_pred=y_pred, average=None)"
   ]
  },
  {
   "cell_type": "code",
   "execution_count": 5,
   "metadata": {},
   "outputs": [
    {
     "data": {
      "text/plain": [
       "0.8560975401498118"
      ]
     },
     "execution_count": 5,
     "metadata": {},
     "output_type": "execute_result"
    }
   ],
   "source": [
    "np.mean(f1_score(y_true=y_test, y_pred=y_pred, average=None))"
   ]
  },
  {
   "cell_type": "code",
   "execution_count": 6,
   "metadata": {},
   "outputs": [
    {
     "data": {
      "text/plain": [
       "0.8275"
      ]
     },
     "execution_count": 6,
     "metadata": {},
     "output_type": "execute_result"
    }
   ],
   "source": [
    "#k-nn - accuracy\n",
    "from sklearn.neighbors import KNeighborsClassifier\n",
    "\n",
    "neigh = KNeighborsClassifier(n_neighbors=3, algorithm='auto')\n",
    "neigh.fit(x_train, y_train)\n",
    "\n",
    "y_pred_knn = neigh.predict(x_test)\n",
    "accuracy_score(y_true=y_test, y_pred=y_pred_knn)"
   ]
  },
  {
   "cell_type": "code",
   "execution_count": 7,
   "metadata": {},
   "outputs": [
    {
     "data": {
      "text/plain": [
       "array([0.94444444, 0.81632653, 0.85245902, 0.83544304, 0.82758621,\n",
       "       0.65306122, 0.89411765, 0.85365854, 0.76315789, 0.7804878 ])"
      ]
     },
     "execution_count": 7,
     "metadata": {},
     "output_type": "execute_result"
    }
   ],
   "source": [
    "#f1\n",
    "f1_score(y_true=y_test, y_pred=y_pred_knn, average=None)"
   ]
  },
  {
   "cell_type": "code",
   "execution_count": 8,
   "metadata": {},
   "outputs": [
    {
     "data": {
      "text/plain": [
       "0.8220742344070244"
      ]
     },
     "execution_count": 8,
     "metadata": {},
     "output_type": "execute_result"
    }
   ],
   "source": [
    "np.mean(f1_score(y_true=y_test, y_pred=y_pred_knn, average=None))"
   ]
  },
  {
   "cell_type": "markdown",
   "metadata": {},
   "source": [
    "# FMNIST"
   ]
  },
  {
   "cell_type": "code",
   "execution_count": 9,
   "metadata": {},
   "outputs": [],
   "source": [
    "import tensorflow as tf\n",
    "from sklearn.utils import resample\n",
    "(x_train, y_train), (x_test, y_test) = tf.keras.datasets.fashion_mnist.load_data()\n",
    "x_train = x_train.reshape(x_train.shape[0],-1)\n",
    "x_test = x_test.reshape(x_test.shape[0],-1)\n",
    "\n",
    "x_train, y_train = resample(x_train, y_train, n_samples=600, replace=False, random_state=0)\n",
    "x_test, y_test = resample(x_test, y_test, n_samples=100, replace=False, random_state=0)"
   ]
  },
  {
   "cell_type": "code",
   "execution_count": 10,
   "metadata": {},
   "outputs": [
    {
     "name": "stdout",
     "output_type": "stream",
     "text": [
      "kernel=linear, C=0.010000, score=0.820000\n",
      "kernel=linear, C=0.100000, score=0.820000\n",
      "kernel=linear, C=1.000000, score=0.820000\n",
      "kernel=linear, C=10.000000, score=0.820000\n",
      "kernel=poly, C=0.010000, degree=2, score=0.320000\n",
      "kernel=poly, C=0.010000, degree=3, score=0.420000\n",
      "kernel=poly, C=0.010000, degree=4, score=0.460000\n",
      "kernel=poly, C=0.100000, degree=2, score=0.610000\n",
      "kernel=poly, C=0.100000, degree=3, score=0.630000\n",
      "kernel=poly, C=0.100000, degree=4, score=0.630000\n",
      "kernel=poly, C=1.000000, degree=2, score=0.750000\n",
      "kernel=poly, C=1.000000, degree=3, score=0.680000\n",
      "kernel=poly, C=1.000000, degree=4, score=0.620000\n",
      "kernel=poly, C=10.000000, degree=2, score=0.810000\n",
      "kernel=poly, C=10.000000, degree=3, score=0.750000\n",
      "kernel=poly, C=10.000000, degree=4, score=0.700000\n",
      "kernel=sigmoid, C=0.010000, coef0=0.000000, score=0.130000\n",
      "kernel=sigmoid, C=0.010000, coef0=0.500000, score=0.130000\n",
      "kernel=sigmoid, C=0.010000, coef0=1.000000, score=0.130000\n",
      "kernel=sigmoid, C=0.100000, coef0=0.000000, score=0.280000\n",
      "kernel=sigmoid, C=0.100000, coef0=0.500000, score=0.190000\n",
      "kernel=sigmoid, C=0.100000, coef0=1.000000, score=0.130000\n",
      "kernel=sigmoid, C=1.000000, coef0=0.000000, score=0.410000\n",
      "kernel=sigmoid, C=1.000000, coef0=0.500000, score=0.470000\n",
      "kernel=sigmoid, C=1.000000, coef0=1.000000, score=0.390000\n",
      "kernel=sigmoid, C=10.000000, coef0=0.000000, score=0.390000\n",
      "kernel=sigmoid, C=10.000000, coef0=0.500000, score=0.320000\n",
      "kernel=sigmoid, C=10.000000, coef0=1.000000, score=0.330000\n"
     ]
    }
   ],
   "source": [
    "#SVM\n",
    "from sklearn.svm import SVC\n",
    "from sklearn.metrics import accuracy_score\n",
    "\n",
    "for C in [0.01, 0.1, 1.0, 10.0]:\n",
    "    clf = SVC(C=C, kernel='linear')\n",
    "    clf.fit(x_train,y_train)\n",
    "    y_pred = clf.predict(x_test)\n",
    "    score = accuracy_score(y_test, y_pred)\n",
    "    print('kernel=linear, C=%f, score=%f' %(C, score))\n",
    "    \n",
    "for C in [0.01, 0.1, 1.0, 10.0]:\n",
    "    for degree in [2,3,4]:\n",
    "        clf = SVC(C=C, kernel='poly', degree=degree)\n",
    "        clf.fit(x_train,y_train)\n",
    "        y_pred = clf.predict(x_test)\n",
    "        score = accuracy_score(y_test, y_pred)\n",
    "        print('kernel=poly, C=%f, degree=%d, score=%f' %(C, degree, score))\n",
    "    \n",
    "for C in [0.01, 0.1, 1.0, 10.0]:\n",
    "    for coef0 in [0.0,0.5,1.0]:\n",
    "        clf = SVC(C=C, kernel='sigmoid', coef0=coef0)\n",
    "        clf.fit(x_train,y_train)\n",
    "        y_pred = clf.predict(x_test)\n",
    "        score = accuracy_score(y_test, y_pred)\n",
    "        print('kernel=sigmoid, C=%f, coef0=%f, score=%f' %(C, coef0, score))"
   ]
  },
  {
   "cell_type": "code",
   "execution_count": 11,
   "metadata": {},
   "outputs": [
    {
     "name": "stdout",
     "output_type": "stream",
     "text": [
      "kernel=linear, C=1.000000, score=0.820000\n"
     ]
    }
   ],
   "source": [
    "#accuracy\n",
    "C=1.0\n",
    "clf = SVC(C=C, kernel='linear', degree=2)\n",
    "clf.fit(x_train,y_train)\n",
    "y_pred = clf.predict(x_test)\n",
    "score = accuracy_score(y_test, y_pred)\n",
    "print('kernel=linear, C=%f, score=%f' %(C, score))"
   ]
  },
  {
   "cell_type": "code",
   "execution_count": 12,
   "metadata": {},
   "outputs": [
    {
     "data": {
      "text/plain": [
       "array([0.8       , 1.        , 0.88888889, 0.88888889, 0.75      ,\n",
       "       0.72      , 0.69565217, 0.71428571, 0.84848485, 0.95238095])"
      ]
     },
     "execution_count": 12,
     "metadata": {},
     "output_type": "execute_result"
    }
   ],
   "source": [
    "#f1\n",
    "from sklearn.metrics import f1_score\n",
    "import numpy as np\n",
    "f1_score(y_true=y_test, y_pred=y_pred, average=None)"
   ]
  },
  {
   "cell_type": "code",
   "execution_count": 13,
   "metadata": {},
   "outputs": [
    {
     "data": {
      "text/plain": [
       "0.8258581466842336"
      ]
     },
     "execution_count": 13,
     "metadata": {},
     "output_type": "execute_result"
    }
   ],
   "source": [
    "np.mean(f1_score(y_true=y_test, y_pred=y_pred, average=None))"
   ]
  },
  {
   "cell_type": "code",
   "execution_count": 14,
   "metadata": {},
   "outputs": [
    {
     "data": {
      "text/plain": [
       "0.76"
      ]
     },
     "execution_count": 14,
     "metadata": {},
     "output_type": "execute_result"
    }
   ],
   "source": [
    "#k-nn - accuracy\n",
    "from sklearn.neighbors import KNeighborsClassifier\n",
    "\n",
    "neigh = KNeighborsClassifier(n_neighbors=3, algorithm='auto')\n",
    "neigh.fit(x_train, y_train)\n",
    "\n",
    "y_pred_knn = neigh.predict(x_test)\n",
    "accuracy_score(y_true=y_test, y_pred=y_pred_knn)"
   ]
  },
  {
   "cell_type": "code",
   "execution_count": 15,
   "metadata": {},
   "outputs": [
    {
     "data": {
      "text/plain": [
       "array([0.61538462, 0.83333333, 0.57142857, 0.77777778, 0.70588235,\n",
       "       0.63157895, 0.66666667, 0.94117647, 0.96551724, 0.86956522])"
      ]
     },
     "execution_count": 15,
     "metadata": {},
     "output_type": "execute_result"
    }
   ],
   "source": [
    "#f1\n",
    "f1_score(y_true=y_test, y_pred=y_pred_knn, average=None)"
   ]
  },
  {
   "cell_type": "code",
   "execution_count": 16,
   "metadata": {},
   "outputs": [
    {
     "data": {
      "text/plain": [
       "0.7578311194259413"
      ]
     },
     "execution_count": 16,
     "metadata": {},
     "output_type": "execute_result"
    }
   ],
   "source": [
    "np.mean(f1_score(y_true=y_test, y_pred=y_pred_knn, average=None))"
   ]
  },
  {
   "cell_type": "markdown",
   "metadata": {},
   "source": [
    "# TNG"
   ]
  },
  {
   "cell_type": "code",
   "execution_count": 17,
   "metadata": {},
   "outputs": [
    {
     "name": "stderr",
     "output_type": "stream",
     "text": [
      "Downloading 20news dataset. This may take a few minutes.\n",
      "Downloading dataset from https://ndownloader.figshare.com/files/5975967 (14 MB)\n"
     ]
    }
   ],
   "source": [
    "from sklearn.datasets import fetch_20newsgroups_vectorized\n",
    "newsgroups_train = fetch_20newsgroups_vectorized(subset='train')"
   ]
  },
  {
   "cell_type": "code",
   "execution_count": 18,
   "metadata": {},
   "outputs": [],
   "source": [
    "newsgroups_train\n",
    "news_x = newsgroups_train.data\n",
    "news_y = newsgroups_train.target"
   ]
  },
  {
   "cell_type": "code",
   "execution_count": 19,
   "metadata": {},
   "outputs": [
    {
     "data": {
      "text/plain": [
       "(11314, 130107)"
      ]
     },
     "execution_count": 19,
     "metadata": {},
     "output_type": "execute_result"
    }
   ],
   "source": [
    "news_x.shape"
   ]
  },
  {
   "cell_type": "code",
   "execution_count": 20,
   "metadata": {},
   "outputs": [
    {
     "data": {
      "text/plain": [
       "157.9958458546933"
      ]
     },
     "execution_count": 20,
     "metadata": {},
     "output_type": "execute_result"
    }
   ],
   "source": [
    "news_x.nnz/news_x.shape[0]"
   ]
  },
  {
   "cell_type": "code",
   "execution_count": 21,
   "metadata": {},
   "outputs": [],
   "source": [
    "from sklearn.decomposition import TruncatedSVD\n",
    "svd = TruncatedSVD(n_components=500, n_iter=7, random_state=0)\n",
    "svd.fit(news_x)\n",
    "svd_x = svd.transform(news_x)"
   ]
  },
  {
   "cell_type": "code",
   "execution_count": 22,
   "metadata": {},
   "outputs": [
    {
     "data": {
      "text/plain": [
       "(11314, 500)"
      ]
     },
     "execution_count": 22,
     "metadata": {},
     "output_type": "execute_result"
    }
   ],
   "source": [
    "svd_x.shape"
   ]
  },
  {
   "cell_type": "code",
   "execution_count": 23,
   "metadata": {},
   "outputs": [],
   "source": [
    "x, y = resample(svd_x, news_y, n_samples=1000, replace=False, random_state=0)"
   ]
  },
  {
   "cell_type": "code",
   "execution_count": 26,
   "metadata": {},
   "outputs": [],
   "source": [
    "from sklearn.model_selection import train_test_split\n",
    "x_train, x_test, y_train, y_test =  train_test_split(x, y, test_size=0.4, random_state=0 )"
   ]
  },
  {
   "cell_type": "code",
   "execution_count": 27,
   "metadata": {},
   "outputs": [
    {
     "name": "stdout",
     "output_type": "stream",
     "text": [
      "kernel=linear, C=0.010000, score=0.060000\n",
      "kernel=linear, C=0.100000, score=0.060000\n",
      "kernel=linear, C=1.000000, score=0.320000\n",
      "kernel=linear, C=10.000000, score=0.532500\n",
      "kernel=linear, C=100.000000, score=0.540000\n",
      "kernel=poly, C=0.010000, degree=2, score=0.060000\n",
      "kernel=poly, C=0.010000, degree=3, score=0.060000\n",
      "kernel=poly, C=0.010000, degree=4, score=0.060000\n",
      "kernel=poly, C=0.100000, degree=2, score=0.065000\n",
      "kernel=poly, C=0.100000, degree=3, score=0.065000\n",
      "kernel=poly, C=0.100000, degree=4, score=0.065000\n",
      "kernel=poly, C=1.000000, degree=2, score=0.387500\n",
      "kernel=poly, C=1.000000, degree=3, score=0.347500\n",
      "kernel=poly, C=1.000000, degree=4, score=0.290000\n",
      "kernel=poly, C=10.000000, degree=2, score=0.522500\n",
      "kernel=poly, C=10.000000, degree=3, score=0.437500\n",
      "kernel=poly, C=10.000000, degree=4, score=0.370000\n",
      "kernel=poly, C=100.000000, degree=2, score=0.525000\n",
      "kernel=poly, C=100.000000, degree=3, score=0.437500\n",
      "kernel=poly, C=100.000000, degree=4, score=0.375000\n",
      "kernel=sigmoid, C=0.010000, coef0=0.000000, score=0.060000\n",
      "kernel=sigmoid, C=0.010000, coef0=0.500000, score=0.060000\n",
      "kernel=sigmoid, C=0.010000, coef0=1.000000, score=0.060000\n",
      "kernel=sigmoid, C=0.100000, coef0=0.000000, score=0.060000\n",
      "kernel=sigmoid, C=0.100000, coef0=0.500000, score=0.060000\n",
      "kernel=sigmoid, C=0.100000, coef0=1.000000, score=0.060000\n",
      "kernel=sigmoid, C=1.000000, coef0=0.000000, score=0.290000\n",
      "kernel=sigmoid, C=1.000000, coef0=0.500000, score=0.157500\n",
      "kernel=sigmoid, C=1.000000, coef0=1.000000, score=0.105000\n",
      "kernel=sigmoid, C=10.000000, coef0=0.000000, score=0.485000\n",
      "kernel=sigmoid, C=10.000000, coef0=0.500000, score=0.457500\n",
      "kernel=sigmoid, C=10.000000, coef0=1.000000, score=0.417500\n",
      "kernel=sigmoid, C=100.000000, coef0=0.000000, score=0.372500\n",
      "kernel=sigmoid, C=100.000000, coef0=0.500000, score=0.347500\n",
      "kernel=sigmoid, C=100.000000, coef0=1.000000, score=0.367500\n"
     ]
    }
   ],
   "source": [
    "#SVM\n",
    "from sklearn.svm import SVC\n",
    "from sklearn.metrics import accuracy_score\n",
    "\n",
    "for C in [0.01, 0.1, 1.0, 10.0, 100.0]:\n",
    "    clf = SVC(C=C, kernel='linear')\n",
    "    clf.fit(x_train,y_train)\n",
    "    y_pred = clf.predict(x_test)\n",
    "    score = accuracy_score(y_test, y_pred)\n",
    "    print('kernel=linear, C=%f, score=%f' %(C, score))\n",
    "    \n",
    "for C in [0.01, 0.1, 1.0, 10.0, 100.0]:\n",
    "    for degree in [2,3,4]:\n",
    "        clf = SVC(C=C, kernel='poly', degree=degree)\n",
    "        clf.fit(x_train,y_train)\n",
    "        y_pred = clf.predict(x_test)\n",
    "        score = accuracy_score(y_test, y_pred)\n",
    "        print('kernel=poly, C=%f, degree=%d, score=%f' %(C, degree, score))\n",
    "    \n",
    "for C in [0.01, 0.1, 1.0, 10.0,100.0]:\n",
    "    for coef0 in [0.0,0.5,1.0]:\n",
    "        clf = SVC(C=C, kernel='sigmoid', coef0=coef0)\n",
    "        clf.fit(x_train,y_train)\n",
    "        y_pred = clf.predict(x_test)\n",
    "        score = accuracy_score(y_test, y_pred)\n",
    "        print('kernel=sigmoid, C=%f, coef0=%f, score=%f' %(C, coef0, score))"
   ]
  },
  {
   "cell_type": "code",
   "execution_count": 28,
   "metadata": {},
   "outputs": [
    {
     "name": "stdout",
     "output_type": "stream",
     "text": [
      "kernel=linear, C=100.000000, score=0.540000\n"
     ]
    }
   ],
   "source": [
    "C=100.0\n",
    "clf = SVC(C=C, kernel='linear')\n",
    "clf.fit(x_train,y_train)\n",
    "y_pred = clf.predict(x_test)\n",
    "score = accuracy_score(y_test, y_pred)\n",
    "print('kernel=linear, C=%f, score=%f' %(C, score))"
   ]
  },
  {
   "cell_type": "code",
   "execution_count": 29,
   "metadata": {},
   "outputs": [
    {
     "data": {
      "text/plain": [
       "array([0.3030303 , 0.31111111, 0.59459459, 0.2       , 0.45      ,\n",
       "       0.53846154, 0.53658537, 0.53061224, 0.66666667, 0.68965517,\n",
       "       0.8       , 0.6       , 0.38095238, 0.57142857, 0.54545455,\n",
       "       0.55555556, 0.53333333, 0.8       , 0.35714286, 0.58064516])"
      ]
     },
     "execution_count": 29,
     "metadata": {},
     "output_type": "execute_result"
    }
   ],
   "source": [
    "#f1\n",
    "from sklearn.metrics import f1_score\n",
    "import numpy as np\n",
    "f1_score(y_true=y_test, y_pred=y_pred, average=None)"
   ]
  },
  {
   "cell_type": "code",
   "execution_count": 30,
   "metadata": {},
   "outputs": [
    {
     "data": {
      "text/plain": [
       "0.5272614701093596"
      ]
     },
     "execution_count": 30,
     "metadata": {},
     "output_type": "execute_result"
    }
   ],
   "source": [
    "np.mean(f1_score(y_true=y_test, y_pred=y_pred, average=None))"
   ]
  },
  {
   "cell_type": "code",
   "execution_count": 31,
   "metadata": {},
   "outputs": [
    {
     "data": {
      "text/plain": [
       "0.2725"
      ]
     },
     "execution_count": 31,
     "metadata": {},
     "output_type": "execute_result"
    }
   ],
   "source": [
    "#k-nn - accuracy\n",
    "from sklearn.neighbors import KNeighborsClassifier\n",
    "\n",
    "neigh = KNeighborsClassifier(n_neighbors=3, algorithm='auto')\n",
    "neigh.fit(x_train, y_train)\n",
    "\n",
    "y_pred_knn = neigh.predict(x_test)\n",
    "accuracy_score(y_true=y_test, y_pred=y_pred_knn)"
   ]
  },
  {
   "cell_type": "code",
   "execution_count": 32,
   "metadata": {},
   "outputs": [
    {
     "data": {
      "text/plain": [
       "array([0.21875   , 0.24242424, 0.28571429, 0.11764706, 0.33333333,\n",
       "       0.16216216, 0.33333333, 0.22222222, 0.19047619, 0.31818182,\n",
       "       0.45      , 0.34782609, 0.30769231, 0.32142857, 0.27272727,\n",
       "       0.20689655, 0.23076923, 0.4137931 , 0.1875    , 0.28571429])"
      ]
     },
     "execution_count": 32,
     "metadata": {},
     "output_type": "execute_result"
    }
   ],
   "source": [
    "#f1\n",
    "f1_score(y_true=y_test, y_pred=y_pred_knn, average=None)"
   ]
  },
  {
   "cell_type": "code",
   "execution_count": 33,
   "metadata": {},
   "outputs": [
    {
     "data": {
      "text/plain": [
       "0.2724296028565861"
      ]
     },
     "execution_count": 33,
     "metadata": {},
     "output_type": "execute_result"
    }
   ],
   "source": [
    "np.mean(f1_score(y_true=y_test, y_pred=y_pred_knn, average=None))"
   ]
  },
  {
   "cell_type": "markdown",
   "metadata": {},
   "source": [
    "# b) MNIST"
   ]
  },
  {
   "cell_type": "code",
   "execution_count": 34,
   "metadata": {},
   "outputs": [],
   "source": [
    "import tensorflow as tf\n",
    "from sklearn.utils import resample\n",
    "(x_train, y_train), (x_test, y_test) = tf.keras.datasets.mnist.load_data()\n",
    "x_test = x_test.reshape(x_test.shape[0],-1)\n",
    "\n",
    "x_train, y_train = resample(x_train, y_train, n_samples=600, replace=False, random_state=0)\n",
    "x_test, y_test = resample(x_test, y_test, n_samples=400, replace=False, random_state=0)"
   ]
  },
  {
   "cell_type": "code",
   "execution_count": 35,
   "metadata": {},
   "outputs": [
    {
     "data": {
      "text/plain": [
       "(600, 28, 28)"
      ]
     },
     "execution_count": 35,
     "metadata": {},
     "output_type": "execute_result"
    }
   ],
   "source": [
    "x_train.shape"
   ]
  },
  {
   "cell_type": "code",
   "execution_count": 42,
   "metadata": {},
   "outputs": [
    {
     "data": {
      "text/plain": [
       "<matplotlib.image.AxesImage at 0x16e1702a550>"
      ]
     },
     "execution_count": 42,
     "metadata": {},
     "output_type": "execute_result"
    },
    {
     "data": {
      "image/png": "[encoded data removed]",
      "text/plain": [
       "<Figure size 432x288 with 1 Axes>"
      ]
     },
     "metadata": {
      "needs_background": "light"
     },
     "output_type": "display_data"
    }
   ],
   "source": [
    "import matplotlib.pyplot as plt\n",
    "plt.imshow(x_train[5])"
   ]
  },
  {
   "cell_type": "code",
   "execution_count": 37,
   "metadata": {},
   "outputs": [],
   "source": [
    "import imgaug as ia\n",
    "import imgaug.augmenters as iaa\n",
    "import numpy as np\n",
    "\n",
    "N = 100\n",
    "\n",
    "def augment(images):\n",
    "    seq = iaa.Sequential(\n",
    "        [\n",
    "            iaa.Crop(px=(1, 2), keep_size=True),\n",
    "            iaa.SomeOf((0, 3),\n",
    "                [\n",
    "                    iaa.Affine(\n",
    "                        scale={\"x\": (0.8, 1.2), \"y\": (0.8, 1.2)},\n",
    "                        rotate=(-20, 20),\n",
    "                        order=[0, 1],\n",
    "                        cval=(0, 255),\n",
    "                        mode=ia.ALL,\n",
    "                    ),\n",
    "                    iaa.GaussianBlur((0, 0.5)),\n",
    "                    iaa.SaltAndPepper(0.05),\n",
    "                ],\n",
    "                random_order=True\n",
    "            )\n",
    "        ]\n",
    "    )\n",
    "\n",
    "    imagesX = images[:, :, :, np.newaxis]\n",
    "    images_aug = seq(images=imagesX)\n",
    "    return [np.squeeze(img) for img in images_aug]"
   ]
  },
  {
   "cell_type": "code",
   "execution_count": 38,
   "metadata": {},
   "outputs": [],
   "source": [
    "aug_x = augment(x_train)"
   ]
  },
  {
   "cell_type": "code",
   "execution_count": 41,
   "metadata": {},
   "outputs": [
    {
     "data": {
      "text/plain": [
       "<matplotlib.image.AxesImage at 0x16e16fd1d00>"
      ]
     },
     "execution_count": 41,
     "metadata": {},
     "output_type": "execute_result"
    },
    {
     "data": {
      "image/png": "[encoded data removed]",
      "text/plain": [
       "<Figure size 432x288 with 1 Axes>"
      ]
     },
     "metadata": {
      "needs_background": "light"
     },
     "output_type": "display_data"
    }
   ],
   "source": [
    "plt.imshow(aug_x[5])"
   ]
  },
  {
   "cell_type": "code",
   "execution_count": 43,
   "metadata": {},
   "outputs": [],
   "source": [
    "x_train_notaug = x_train.reshape(x_train.shape[0],-1)\n",
    "x_train_aug =np.array(aug_x).reshape(x_train.shape[0],-1)\n",
    "\n",
    "x_train_aug = np.concatenate((x_train_notaug, x_train_aug))\n",
    "y_train_aug = np.concatenate((y_train, y_train))"
   ]
  },
  {
   "cell_type": "code",
   "execution_count": 44,
   "metadata": {},
   "outputs": [
    {
     "name": "stdout",
     "output_type": "stream",
     "text": [
      "kernel=linear, C=0.010000, score=0.837500\n",
      "kernel=linear, C=0.100000, score=0.837500\n",
      "kernel=linear, C=1.000000, score=0.837500\n",
      "kernel=linear, C=10.000000, score=0.837500\n",
      "kernel=poly, C=0.010000, degree=2, score=0.140000\n",
      "kernel=poly, C=0.010000, degree=3, score=0.152500\n",
      "kernel=poly, C=0.010000, degree=4, score=0.155000\n",
      "kernel=poly, C=0.100000, degree=2, score=0.725000\n",
      "kernel=poly, C=0.100000, degree=3, score=0.612500\n",
      "kernel=poly, C=0.100000, degree=4, score=0.485000\n",
      "kernel=poly, C=1.000000, degree=2, score=0.880000\n",
      "kernel=poly, C=1.000000, degree=3, score=0.817500\n",
      "kernel=poly, C=1.000000, degree=4, score=0.747500\n",
      "kernel=poly, C=10.000000, degree=2, score=0.857500\n",
      "kernel=poly, C=10.000000, degree=3, score=0.820000\n",
      "kernel=poly, C=10.000000, degree=4, score=0.777500\n",
      "kernel=sigmoid, C=0.010000, coef0=0.000000, score=0.100000\n",
      "kernel=sigmoid, C=0.010000, coef0=0.500000, score=0.100000\n",
      "kernel=sigmoid, C=0.010000, coef0=1.000000, score=0.100000\n",
      "kernel=sigmoid, C=0.100000, coef0=0.000000, score=0.697500\n",
      "kernel=sigmoid, C=0.100000, coef0=0.500000, score=0.527500\n",
      "kernel=sigmoid, C=0.100000, coef0=1.000000, score=0.280000\n",
      "kernel=sigmoid, C=1.000000, coef0=0.000000, score=0.830000\n",
      "kernel=sigmoid, C=1.000000, coef0=0.500000, score=0.805000\n",
      "kernel=sigmoid, C=1.000000, coef0=1.000000, score=0.780000\n",
      "kernel=sigmoid, C=10.000000, coef0=0.000000, score=0.757500\n",
      "kernel=sigmoid, C=10.000000, coef0=0.500000, score=0.720000\n",
      "kernel=sigmoid, C=10.000000, coef0=1.000000, score=0.722500\n"
     ]
    }
   ],
   "source": [
    "from sklearn.svm import SVC\n",
    "from sklearn.metrics import accuracy_score\n",
    "\n",
    "for C in [0.01, 0.1, 1.0, 10.0]:\n",
    "    clf = SVC(C=C, kernel='linear')\n",
    "    clf.fit(x_train_aug,y_train_aug)\n",
    "    y_pred = clf.predict(x_test)\n",
    "    score = accuracy_score(y_test, y_pred)\n",
    "    print('kernel=linear, C=%f, score=%f' %(C, score))\n",
    "    \n",
    "for C in [0.01, 0.1, 1.0, 10.0]:\n",
    "    for degree in [2,3,4]:\n",
    "        clf = SVC(C=C, kernel='poly', degree=degree)\n",
    "        clf.fit(x_train_aug,y_train_aug)\n",
    "        y_pred = clf.predict(x_test)\n",
    "        score = accuracy_score(y_test, y_pred)\n",
    "        print('kernel=poly, C=%f, degree=%d, score=%f' %(C, degree, score))\n",
    "    \n",
    "for C in [0.01, 0.1, 1.0, 10.0]:\n",
    "    for coef0 in [0.0,0.5,1.0]:\n",
    "        clf = SVC(C=C, kernel='sigmoid', coef0=coef0)\n",
    "        clf.fit(x_train_aug,y_train_aug)\n",
    "        y_pred = clf.predict(x_test)\n",
    "        score = accuracy_score(y_test, y_pred)\n",
    "        print('kernel=sigmoid, C=%f, coef0=%f, score=%f' %(C, coef0, score))"
   ]
  },
  {
   "cell_type": "code",
   "execution_count": 45,
   "metadata": {},
   "outputs": [
    {
     "name": "stdout",
     "output_type": "stream",
     "text": [
      "kernel=linear, C=0.010000, score=0.850000\n",
      "kernel=linear, C=0.100000, score=0.850000\n",
      "kernel=linear, C=1.000000, score=0.850000\n",
      "kernel=linear, C=10.000000, score=0.850000\n",
      "kernel=poly, C=0.010000, degree=2, score=0.112500\n",
      "kernel=poly, C=0.010000, degree=3, score=0.120000\n",
      "kernel=poly, C=0.010000, degree=4, score=0.127500\n",
      "kernel=poly, C=0.100000, degree=2, score=0.662500\n",
      "kernel=poly, C=0.100000, degree=3, score=0.515000\n",
      "kernel=poly, C=0.100000, degree=4, score=0.427500\n",
      "kernel=poly, C=1.000000, degree=2, score=0.862500\n",
      "kernel=poly, C=1.000000, degree=3, score=0.785000\n",
      "kernel=poly, C=1.000000, degree=4, score=0.712500\n",
      "kernel=poly, C=10.000000, degree=2, score=0.852500\n",
      "kernel=poly, C=10.000000, degree=3, score=0.810000\n",
      "kernel=poly, C=10.000000, degree=4, score=0.747500\n",
      "kernel=sigmoid, C=0.010000, coef0=0.000000, score=0.100000\n",
      "kernel=sigmoid, C=0.010000, coef0=0.500000, score=0.100000\n",
      "kernel=sigmoid, C=0.010000, coef0=1.000000, score=0.100000\n",
      "kernel=sigmoid, C=0.100000, coef0=0.000000, score=0.545000\n",
      "kernel=sigmoid, C=0.100000, coef0=0.500000, score=0.372500\n",
      "kernel=sigmoid, C=0.100000, coef0=1.000000, score=0.100000\n",
      "kernel=sigmoid, C=1.000000, coef0=0.000000, score=0.842500\n",
      "kernel=sigmoid, C=1.000000, coef0=0.500000, score=0.817500\n",
      "kernel=sigmoid, C=1.000000, coef0=1.000000, score=0.742500\n",
      "kernel=sigmoid, C=10.000000, coef0=0.000000, score=0.772500\n",
      "kernel=sigmoid, C=10.000000, coef0=0.500000, score=0.772500\n",
      "kernel=sigmoid, C=10.000000, coef0=1.000000, score=0.777500\n"
     ]
    }
   ],
   "source": [
    "from sklearn.svm import SVC\n",
    "from sklearn.metrics import accuracy_score\n",
    "\n",
    "for C in [0.01, 0.1, 1.0, 10.0]:\n",
    "    clf = SVC(C=C, kernel='linear')\n",
    "    clf.fit(x_train_notaug,y_train)\n",
    "    y_pred = clf.predict(x_test)\n",
    "    score = accuracy_score(y_test, y_pred)\n",
    "    print('kernel=linear, C=%f, score=%f' %(C, score))\n",
    "    \n",
    "for C in [0.01, 0.1, 1.0, 10.0]:\n",
    "    for degree in [2,3,4]:\n",
    "        clf = SVC(C=C, kernel='poly', degree=degree)\n",
    "        clf.fit(x_train_notaug,y_train)\n",
    "        y_pred = clf.predict(x_test)\n",
    "        score = accuracy_score(y_test, y_pred)\n",
    "        print('kernel=poly, C=%f, degree=%d, score=%f' %(C, degree, score))\n",
    "    \n",
    "for C in [0.01, 0.1, 1.0, 10.0]:\n",
    "    for coef0 in [0.0,0.5,1.0]:\n",
    "        clf = SVC(C=C, kernel='sigmoid', coef0=coef0)\n",
    "        clf.fit(x_train_notaug,y_train)\n",
    "        y_pred = clf.predict(x_test)\n",
    "        score = accuracy_score(y_test, y_pred)\n",
    "        print('kernel=sigmoid, C=%f, coef0=%f, score=%f' %(C, coef0, score))"
   ]
  }
 ],
 "metadata": {
  "@webio": {
   "lastCommId": null,
   "lastKernelId": null
  },
  "kernelspec": {
   "display_name": "Python 3",
   "language": "python",
   "name": "python3"
  },
  "language_info": {
   "codemirror_mode": {
    "name": "ipython",
    "version": 3
   },
   "file_extension": ".py",
   "mimetype": "text/x-python",
   "name": "python",
   "nbconvert_exporter": "python",
   "pygments_lexer": "ipython3",
   "version": "3.8.1"
  }
 },
 "nbformat": 4,
 "nbformat_minor": 2
}
