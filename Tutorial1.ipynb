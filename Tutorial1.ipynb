{
 "cells": [
  {
   "cell_type": "markdown",
   "metadata": {
    "colab_type": "text",
    "id": "Gwq-mRl6hjxy"
   },
   "source": [
    "# 1. Zbiory danych\n"
   ]
  },
  {
   "cell_type": "markdown",
   "metadata": {
    "colab_type": "text",
    "id": "2dnym8jZsp4s"
   },
   "source": [
    "Zainstaluj potrzebne biblioteki:\n",
    "\n",
    "`pip install numpy pandas matplotlib sklearn imgaug --user`\n",
    "\n",
    "\n",
    "Do wczytywania zbiorów danych wykorzystamy bibliotekę Tensorflow.\n",
    "\n",
    "Python 3.8: `pip install tf-nightly --user`\n",
    "\n",
    "Python <=3.7: `pip install tensorflow --user`"
   ]
  },
  {
   "cell_type": "markdown",
   "metadata": {
    "colab_type": "text",
    "id": "wMTkP_OAPp-5"
   },
   "source": [
    "## MNIST\n",
    "\n",
    "\"The MNIST database of handwritten digits, available from this page, has a training set of 60,000 examples, and a test set of 10,000 examples. It is a subset of a larger set available from NIST. The digits have been size-normalized and centered in a fixed-size image.\"\n",
    "\n",
    "http://yann.lecun.com/exdb/mnist/\n",
    "\n",
    "![MNIST](https://upload.wikimedia.org/wikipedia/commons/2/27/MnistExamples.png)"
   ]
  },
  {
   "cell_type": "code",
   "execution_count": 1,
   "metadata": {
    "colab": {},
    "colab_type": "code",
    "id": "_XXjA09gYjWg",
    "scrolled": false
   },
   "outputs": [
    {
     "data": {
      "text/plain": [
       "(60000, 10000)"
      ]
     },
     "execution_count": 1,
     "metadata": {},
     "output_type": "execute_result"
    }
   ],
   "source": [
    "import tensorflow as tf\n",
    "(x_train, y_train), (x_test, y_test) = tf.keras.datasets.mnist.load_data()\n",
    "\n",
    "len(x_train), len(x_test)\n"
   ]
  },
  {
   "cell_type": "code",
   "execution_count": 2,
   "metadata": {
    "colab": {},
    "colab_type": "code",
    "id": "aulGN3JRZenf"
   },
   "outputs": [
    {
     "data": {
      "text/plain": [
       "8"
      ]
     },
     "execution_count": 2,
     "metadata": {},
     "output_type": "execute_result"
    },
    {
     "data": {
      "image/png": "[encoded data removed]",
      "text/plain": [
       "<Figure size 432x288 with 1 Axes>"
      ]
     },
     "metadata": {
      "needs_background": "light"
     },
     "output_type": "display_data"
    }
   ],
   "source": [
    "import matplotlib.pyplot as plt\n",
    "plt.imshow(x_train[777], cmap='gray')\n",
    "y_train[777]"
   ]
  },
  {
   "cell_type": "markdown",
   "metadata": {
    "colab_type": "text",
    "id": "Lbba2KauS9Yu"
   },
   "source": [
    "## FMNIST\n",
    "\n",
    "\"Fashion-MNIST is a dataset of Zalando's article images—consisting of a training set of 60,000 examples and a test set of 10,000 examples. Each example is a 28x28 grayscale image, associated with a label from 10 classes. We intend Fashion-MNIST to serve as a direct drop-in replacement for the original MNIST dataset for benchmarking machine learning algorithms. It shares the same image size and structure of training and testing splits.\"\n",
    "\n",
    "https://github.com/zalandoresearch/fashion-mnist\n",
    "\n",
    "![FMNIST](https://www.surajx.in/images/fashion_random.png)"
   ]
  },
  {
   "cell_type": "code",
   "execution_count": 3,
   "metadata": {
    "colab": {},
    "colab_type": "code",
    "id": "ZRP6EpftZM9A"
   },
   "outputs": [
    {
     "data": {
      "text/plain": [
       "(60000, 10000)"
      ]
     },
     "execution_count": 3,
     "metadata": {},
     "output_type": "execute_result"
    }
   ],
   "source": [
    "import tensorflow as tf\n",
    "(x_train, y_train), (x_test, y_test) = tf.keras.datasets.fashion_mnist.load_data()\n",
    "\n",
    "len(x_train), len(x_test)"
   ]
  },
  {
   "cell_type": "code",
   "execution_count": 4,
   "metadata": {
    "colab": {},
    "colab_type": "code",
    "id": "u2hE4HjpZ35G"
   },
   "outputs": [
    {
     "data": {
      "text/plain": [
       "9"
      ]
     },
     "execution_count": 4,
     "metadata": {},
     "output_type": "execute_result"
    },
    {
     "data": {
      "image/png": "[encoded data removed]",
      "text/plain": [
       "<Figure size 432x288 with 1 Axes>"
      ]
     },
     "metadata": {
      "needs_background": "light"
     },
     "output_type": "display_data"
    }
   ],
   "source": [
    "import matplotlib.pyplot as plt\n",
    "plt.imshow(x_train[42], cmap='gray')\n",
    "y_train[42]"
   ]
  },
  {
   "cell_type": "markdown",
   "metadata": {
    "colab_type": "text",
    "id": "48g5Eh7aTTG6"
   },
   "source": [
    "## CIFAR-10\n",
    "\n",
    "\"The CIFAR-10 dataset consists of 60000 32x32 colour images in 10 classes, with 6000 images per class. There are 50000 training images and 10000 test images.\"\n",
    "\n",
    "https://www.cs.toronto.edu/~kriz/cifar.html\n",
    "\n",
    "![alt text](https://miro.medium.com/max/944/1*6XQqOifwnmplS22zCRRVaw.png)"
   ]
  },
  {
   "cell_type": "code",
   "execution_count": 5,
   "metadata": {
    "colab": {},
    "colab_type": "code",
    "id": "xYHOkoYvbcw-"
   },
   "outputs": [
    {
     "data": {
      "text/plain": [
       "(50000, 10000)"
      ]
     },
     "execution_count": 5,
     "metadata": {},
     "output_type": "execute_result"
    }
   ],
   "source": [
    "import tensorflow as tf\n",
    "(x_train, y_train), (x_test, y_test) = tf.keras.datasets.cifar10.load_data()\n",
    "\n",
    "len(x_train), len(x_test)"
   ]
  },
  {
   "cell_type": "code",
   "execution_count": 6,
   "metadata": {
    "colab": {},
    "colab_type": "code",
    "id": "mssJCFUvbw5x"
   },
   "outputs": [
    {
     "data": {
      "text/plain": [
       "array([1], dtype=uint8)"
      ]
     },
     "execution_count": 6,
     "metadata": {},
     "output_type": "execute_result"
    },
    {
     "data": {
      "image/png": "[encoded data removed]",
      "text/plain": [
       "<Figure size 432x288 with 1 Axes>"
      ]
     },
     "metadata": {
      "needs_background": "light"
     },
     "output_type": "display_data"
    }
   ],
   "source": [
    "import matplotlib.pyplot as plt\n",
    "plt.imshow(x_train[1410])\n",
    "y_train[1410]"
   ]
  },
  {
   "cell_type": "markdown",
   "metadata": {
    "colab_type": "text",
    "id": "A-BxwBOXTfMd"
   },
   "source": [
    "## CIFAR-100\n",
    "\n",
    "\"This dataset is just like the CIFAR-10, except it has 100 classes containing 600 images each.\"\n",
    "\n",
    "https://www.cs.toronto.edu/~kriz/cifar.html"
   ]
  },
  {
   "cell_type": "code",
   "execution_count": 7,
   "metadata": {
    "colab": {},
    "colab_type": "code",
    "id": "IiAGoxUKbfb4"
   },
   "outputs": [
    {
     "data": {
      "text/plain": [
       "(50000, 10000)"
      ]
     },
     "execution_count": 7,
     "metadata": {},
     "output_type": "execute_result"
    }
   ],
   "source": [
    "import tensorflow as tf\n",
    "(x_train, y_train), (x_test, y_test) = tf.keras.datasets.cifar100.load_data()\n",
    "\n",
    "len(x_train), len(x_test)"
   ]
  },
  {
   "cell_type": "markdown",
   "metadata": {
    "colab_type": "text",
    "id": "z-8KFYrbTkzp"
   },
   "source": [
    "## SmallNorb\n",
    "\n",
    "\"This database is intended for experiments in 3D object reocgnition from shape. It contains images of 50 toys belonging to 5 generic categories: four-legged animals, human figures, airplanes, trucks, and cars. The objects were imaged by two cameras under 6 lighting conditions, 9 elevations (30 to 70 degrees every 5 degrees), and 18 azimuths (0 to 340 every 20 degrees).\"\n",
    "\n",
    "https://cs.nyu.edu/~ylclab/data/norb-v1.0-small/\n",
    "\n",
    "![alt text](https://www.researchgate.net/profile/Hugo_Penedones/publication/330412104/figure/fig1/AS:715640818114567@1547633475277/The-NORB-dataset-with-objects-within-a-category-aligned-at-azimuth-zero.ppm)"
   ]
  },
  {
   "cell_type": "markdown",
   "metadata": {
    "colab_type": "text",
    "id": "bJR5HmRrT0yZ"
   },
   "source": [
    "## TNG\n",
    "\n",
    "\"This dataset contains all episodes of star trek TNG and has seperate rows for every speech or description that I found in the moviescripts.\"\n",
    "\n",
    "https://github.com/RMHogervorst/TNG"
   ]
  },
  {
   "cell_type": "markdown",
   "metadata": {
    "colab_type": "text",
    "id": "yPFJPb4fhtM4"
   },
   "source": [
    "# 2. Metody normalizacji danych\n",
    "\n",
    "## Selekcja \n",
    "\n",
    "Przykładowa implementacja funkcji wybierającej *n* elementów (wierszy) z podanego zbioru danych w postaci tabelarycznej (pd.DataFrame)."
   ]
  },
  {
   "cell_type": "code",
   "execution_count": 8,
   "metadata": {
    "colab": {},
    "colab_type": "code",
    "id": "UkEcyNOKbKEX"
   },
   "outputs": [],
   "source": [
    "import pandas as pd\n",
    "\n",
    "def select_n(filename, n=1000):\n",
    "    df = pd.read_csv(filename)\n",
    "    return df.sample(n=n)"
   ]
  },
  {
   "cell_type": "markdown",
   "metadata": {
    "colab_type": "text",
    "id": "35WGHWu7vjUQ"
   },
   "source": [
    "W przypadku gdy zbiorem danych jest macierz (np.array), traktujemy jej wiersze jako próbki (sample), a kolumny jako wektory cech."
   ]
  },
  {
   "cell_type": "code",
   "execution_count": 9,
   "metadata": {
    "colab": {},
    "colab_type": "code",
    "id": "3j6henweviLL"
   },
   "outputs": [],
   "source": [
    "from sklearn import preprocessing\n",
    "import numpy as np\n",
    "\n",
    "# data = [[height1, weight1],\n",
    "#         [height2, weight2],\n",
    "#         [height3, weight3]]\n",
    "\n",
    "data_train = np.array([\n",
    "  [163, 58],\n",
    "  [150, 54],\n",
    "  [175, 73],\n",
    "  [186, 95],\n",
    "  [149, 57],\n",
    "  [162, 68],\n",
    "  [177, 90],\n",
    "  [181, 86],\n",
    "  [163, 72],\n",
    "])\n",
    "data_test = np.array([\n",
    "  [150, 54],\n",
    "  [169, 64],\n",
    "  [187, 82],\n",
    "  [173, 90],\n",
    "  [162, 70],\n",
    "  [142, 60],\n",
    "])"
   ]
  },
  {
   "cell_type": "markdown",
   "metadata": {
    "colab_type": "text",
    "id": "defSsON9t7ku"
   },
   "source": [
    "## Skalowanie\n",
    "\n",
    "$ X' = \\dfrac{X - \\min(X)}{\\max(X) - \\min(X)} $\n",
    "\n",
    "https://scikit-learn.org/stable/modules/preprocessing.html#scaling-features-to-a-range"
   ]
  },
  {
   "cell_type": "code",
   "execution_count": 10,
   "metadata": {
    "colab": {},
    "colab_type": "code",
    "id": "MxoMRjtfv9-r"
   },
   "outputs": [
    {
     "data": {
      "text/plain": [
       "array([[0.37837838, 0.09756098],\n",
       "       [0.02702703, 0.        ],\n",
       "       [0.7027027 , 0.46341463],\n",
       "       [1.        , 1.        ],\n",
       "       [0.        , 0.07317073],\n",
       "       [0.35135135, 0.34146341],\n",
       "       [0.75675676, 0.87804878],\n",
       "       [0.86486486, 0.7804878 ],\n",
       "       [0.37837838, 0.43902439]])"
      ]
     },
     "execution_count": 10,
     "metadata": {},
     "output_type": "execute_result"
    }
   ],
   "source": [
    "scaler = preprocessing.MinMaxScaler().fit(data_train)\n",
    "data_train_scaled = scaler.transform(data_train)\n",
    "data_train_scaled"
   ]
  },
  {
   "cell_type": "code",
   "execution_count": 11,
   "metadata": {
    "colab": {},
    "colab_type": "code",
    "id": "9BAeev9dwChn"
   },
   "outputs": [
    {
     "data": {
      "text/plain": [
       "(0.0, 1.0)"
      ]
     },
     "execution_count": 11,
     "metadata": {},
     "output_type": "execute_result"
    }
   ],
   "source": [
    "heights = data_train_scaled[:,0]\n",
    "min(heights), max(heights)"
   ]
  },
  {
   "cell_type": "markdown",
   "metadata": {
    "colab_type": "text",
    "id": "MDagVKL2FS75"
   },
   "source": [
    "## Standaryzacja\n",
    "\n",
    "Funkcja standaryzująca wartości wektorów cech\n",
    "\n",
    "$ X' = \\dfrac{X-\\mu_X}{\\sigma_X} $\n",
    "\n",
    "wartość oczekiwana: $ \\mu_{X'} = 0 $\n",
    "\n",
    "odchylenie standardowe: $ \\sigma_{X'} = 1 $\n",
    "\n",
    "https://scikit-learn.org/stable/modules/preprocessing.html#preprocessing-scaler"
   ]
  },
  {
   "cell_type": "code",
   "execution_count": 12,
   "metadata": {
    "colab": {},
    "colab_type": "code",
    "id": "mqfVkoxdFgi_"
   },
   "outputs": [
    {
     "data": {
      "text/plain": [
       "array([[-0.34868716, -1.02689051],\n",
       "       [-1.39474863, -1.30908943],\n",
       "       [ 0.61690805,  0.03135544],\n",
       "       [ 1.50203699,  1.58344949],\n",
       "       [-1.4752149 , -1.09744024],\n",
       "       [-0.42915342, -0.32139321],\n",
       "       [ 0.77784058,  1.23070084],\n",
       "       [ 1.09970565,  0.94850192],\n",
       "       [-0.34868716, -0.03919429]])"
      ]
     },
     "execution_count": 12,
     "metadata": {},
     "output_type": "execute_result"
    }
   ],
   "source": [
    "scaler = preprocessing.StandardScaler().fit(data_train)\n",
    "data_train_scaled = scaler.transform(data_train)\n",
    "data_train_scaled"
   ]
  },
  {
   "cell_type": "code",
   "execution_count": 13,
   "metadata": {
    "colab": {},
    "colab_type": "code",
    "id": "p6c3m7VmHcf_"
   },
   "outputs": [
    {
     "data": {
      "text/plain": [
       "array([-7.52484494e-16, -1.34922937e-16])"
      ]
     },
     "execution_count": 13,
     "metadata": {},
     "output_type": "execute_result"
    }
   ],
   "source": [
    "data_train_scaled.mean(axis=0)  # should be [0., 0.]"
   ]
  },
  {
   "cell_type": "code",
   "execution_count": 14,
   "metadata": {
    "colab": {},
    "colab_type": "code",
    "id": "BRPDB9CoHoxj"
   },
   "outputs": [
    {
     "data": {
      "text/plain": [
       "array([1., 1.])"
      ]
     },
     "execution_count": 14,
     "metadata": {},
     "output_type": "execute_result"
    }
   ],
   "source": [
    "data_train_scaled.std(axis=0)  # should be [1., 1.]"
   ]
  },
  {
   "cell_type": "code",
   "execution_count": 15,
   "metadata": {
    "colab": {},
    "colab_type": "code",
    "id": "cfoDSAnuIkgU"
   },
   "outputs": [
    {
     "data": {
      "text/plain": [
       "array([[-1.39474863, -1.30908943],\n",
       "       [ 0.13411045, -0.60359213],\n",
       "       [ 1.58250325,  0.666303  ],\n",
       "       [ 0.45597551,  1.23070084],\n",
       "       [-0.42915342, -0.18029375],\n",
       "       [-2.03847877, -0.88579105]])"
      ]
     },
     "execution_count": 15,
     "metadata": {},
     "output_type": "execute_result"
    }
   ],
   "source": [
    "data_test_scaled = scaler.transform(data_test)\n",
    "data_test_scaled"
   ]
  },
  {
   "cell_type": "code",
   "execution_count": 16,
   "metadata": {
    "colab": {},
    "colab_type": "code",
    "id": "ml7UrrhdInE-"
   },
   "outputs": [
    {
     "data": {
      "text/plain": [
       "array([-0.28163193, -0.18029375])"
      ]
     },
     "execution_count": 16,
     "metadata": {},
     "output_type": "execute_result"
    }
   ],
   "source": [
    "data_test_scaled.mean(axis=0)"
   ]
  },
  {
   "cell_type": "code",
   "execution_count": 17,
   "metadata": {
    "colab": {},
    "colab_type": "code",
    "id": "mWgWPs5ZIn-z"
   },
   "outputs": [
    {
     "data": {
      "text/plain": [
       "array([1.19298007, 0.88116584])"
      ]
     },
     "execution_count": 17,
     "metadata": {},
     "output_type": "execute_result"
    }
   ],
   "source": [
    "data_test_scaled.std(axis=0)"
   ]
  },
  {
   "cell_type": "markdown",
   "metadata": {
    "colab_type": "text",
    "id": "XaZDOGxVui0E"
   },
   "source": [
    "## Normalizacja\n",
    "\n",
    "\"Normalization is the process of scaling individual samples to have unit norm (vector length equal to 1).\"\n",
    "\n",
    "https://scikit-learn.org/stable/modules/preprocessing.html#preprocessing-normalization\n",
    "\n"
   ]
  },
  {
   "cell_type": "code",
   "execution_count": 18,
   "metadata": {
    "colab": {},
    "colab_type": "code",
    "id": "PA3GmVDmwJpp"
   },
   "outputs": [
    {
     "data": {
      "text/plain": [
       "array([[0.94213358, 0.33523771],\n",
       "       [0.94088741, 0.33871947],\n",
       "       [0.92292082, 0.38498983],\n",
       "       [0.890564  , 0.45485796],\n",
       "       [0.93399032, 0.35729831],\n",
       "       [0.92206337, 0.38703894],\n",
       "       [0.89138513, 0.45324668],\n",
       "       [0.90322915, 0.4291586 ],\n",
       "       [0.91473484, 0.40405466]])"
      ]
     },
     "execution_count": 18,
     "metadata": {},
     "output_type": "execute_result"
    }
   ],
   "source": [
    "scaler = preprocessing.Normalizer().fit(data_train)\n",
    "data_train_scaled = scaler.transform(data_train)\n",
    "data_train_scaled"
   ]
  },
  {
   "cell_type": "code",
   "execution_count": 19,
   "metadata": {
    "colab": {},
    "colab_type": "code",
    "id": "Q7evsxQ4w0Yi"
   },
   "outputs": [
    {
     "data": {
      "text/plain": [
       "array([1., 1., 1., 1., 1., 1., 1., 1., 1.])"
      ]
     },
     "execution_count": 19,
     "metadata": {},
     "output_type": "execute_result"
    }
   ],
   "source": [
    "np.linalg.norm(data_train_scaled, axis=1)"
   ]
  },
  {
   "cell_type": "markdown",
   "metadata": {
    "colab_type": "text",
    "id": "SUVjYjhMuC8O"
   },
   "source": [
    "## UCI Machine Learning Repository\n",
    "\n",
    "https://archive.ics.uci.edu/ml/datasets.php?format=&task=cla&att=num&area=&numAtt=10to100&numIns=greater1000&type=&sort=attDown&view=table"
   ]
  },
  {
   "cell_type": "markdown",
   "metadata": {
    "colab_type": "text",
    "id": "9vN9dqvHKd7D"
   },
   "source": [
    "Wczytujemy zbiór danych [Character Font Images Data Set](https://archive.ics.uci.edu/ml/datasets/Character+Font+Images?fbclid=IwAR2abp7ksO_B30IQP6vozDmbTyp4X0UcvZF8lV7rMWeKWtvqu3OqwdjAudY/) ze strony UCI."
   ]
  },
  {
   "cell_type": "code",
   "execution_count": 20,
   "metadata": {
    "colab": {},
    "colab_type": "code",
    "id": "m4gj5_u76FUU"
   },
   "outputs": [],
   "source": [
    "import numpy as np\n",
    "import pandas as pd\n",
    "import matplotlib.pyplot as plt\n",
    "\n",
    "\n",
    "def to_img(df):\n",
    "  assert pd.unique(df['h']).size == 1\n",
    "  assert pd.unique(df['w']).size == 1\n",
    "\n",
    "  h, w = df['h'].iloc[0], df['w'].iloc[0]\n",
    "  images = np.empty((len(df), w, h))\n",
    "\n",
    "  for x in range(w):\n",
    "    for y in range(h):\n",
    "      label = 'r{}c{}'.format(y, x)\n",
    "      images[:, y, x] = df[label].values\n",
    "  return images\n",
    "\n",
    "def plot_fonts(images, n_cols=10):\n",
    "  n_rows = len(images) // n_cols + 1\n",
    "\n",
    "  fig, axes = plt.subplots(nrows=n_rows, ncols=n_cols, squeeze=False)\n",
    "  fig.set_size_inches(20, 2 * n_rows)\n",
    "  \n",
    "  for i, img in enumerate(images):\n",
    "    ax = axes[i // n_cols][i % n_cols]\n",
    "    ax.imshow(img, cmap='gray', vmin=0, vmax=255)\n",
    "    ax.set_xticks([]); ax.set_yticks([])\n",
    "\n",
    "  for i in range(len(images), n_rows * n_cols):\n",
    "    axes[i // n_cols][i % n_cols].axis('off')\n",
    "\n",
    "  plt.show()"
   ]
  },
  {
   "cell_type": "code",
   "execution_count": 21,
   "metadata": {
    "colab": {},
    "colab_type": "code",
    "id": "t3DQfWzd-zvY"
   },
   "outputs": [],
   "source": [
    "times_df = select_n('./fonts/TIMES.csv')\n",
    "roman_df = select_n('./fonts/ROMAN.csv')\n",
    "times_img = to_img(times_df)\n",
    "roman_img = to_img(roman_df)"
   ]
  },
  {
   "cell_type": "markdown",
   "metadata": {
    "colab_type": "text",
    "id": "Rt1vZNMWgfgU"
   },
   "source": [
    "# 3. Algorytm *k-nearest neighbors* (k-NN).\n",
    "\n",
    "\n"
   ]
  },
  {
   "cell_type": "markdown",
   "metadata": {
    "colab_type": "text",
    "id": "dPzUI89jJLf8"
   },
   "source": [
    "Implementacje metod opartych na wyszukiwaniu najbliższych sąsiadów można znaleźć w pakiecie **sklearn.neighbors**. Przedstawimy ich działanie na modelu, który rozróżnia bitmapy znaków czcionki Times vs. Roman.\n",
    "\n",
    "Najpierw zobaczmy przykładowe znaki obu klas."
   ]
  },
  {
   "cell_type": "code",
   "execution_count": 22,
   "metadata": {
    "colab": {},
    "colab_type": "code",
    "id": "GCZLhNaj84nA"
   },
   "outputs": [
    {
     "data": {
      "image/png": "[encoded data removed]",
      "text/plain": [
       "<Figure size 1440x864 with 60 Axes>"
      ]
     },
     "metadata": {
      "needs_background": "light"
     },
     "output_type": "display_data"
    }
   ],
   "source": [
    "plot_fonts(times_img[:50])"
   ]
  },
  {
   "cell_type": "code",
   "execution_count": 23,
   "metadata": {
    "colab": {},
    "colab_type": "code",
    "id": "uWwVThJ1BQ9m"
   },
   "outputs": [
    {
     "data": {
      "image/png": "[encoded data removed]",
      "text/plain": [
       "<Figure size 1440x864 with 60 Axes>"
      ]
     },
     "metadata": {
      "needs_background": "light"
     },
     "output_type": "display_data"
    }
   ],
   "source": [
    "plot_fonts(roman_img[:50])"
   ]
  },
  {
   "cell_type": "markdown",
   "metadata": {
    "colab_type": "text",
    "id": "MjC2OKeaNhAL"
   },
   "source": [
    "### **Wyznaczanie najbliższych sąsiadów.**\n",
    "Można użyć klasy *NearestNeighbors*. Opiszemy ważniejsze parametry (poza liczbą sąsiadów *n_neighbors*):\n",
    "\n",
    "**-> algorithm**: mamy do wyboru różne metody znajdowania sąsiadów. Dla zbioru treningowego M punktów (x<sub>1</sub>, x<sub>2</sub>, ..., x<sub>d</sub>):\n",
    "\n",
    "  - metoda *brute* wyznacza dla każdego punktu jego odległość od wszystkich pozostałych. \n",
    "    - złożoność czasowa: __O(d * M^2)__\n",
    " \n",
    "  - metoda *kd_tree* tworzy drzewo binarne, rekurencyjnie dzieląc zbiór treningowy na podzbiory nierównościami typu x<sub>i</sub> <= a<sub>j</sub>, gdzie a<sub>j</sub> jest ustalane w oparciu o dane. \n",
    "    - złożoność czasowa: dla małych wymiarów D (np. < 20) w przybliżeniu __O(d \\* M \\* log(M))__, dla większych zbliża się do  __O(d \\* M^2)__\n",
    "\n",
    "- metoda *ball_tree* również tworzy drzewo binarne, ale podzbiór odpowiadający danemu węzłowi nie jest dzielony na dwoje w oparciu o wartość pojedynczej cechy jak dla *kd_tree*. Zamiast tego do podzbioru dopasowywane są 2 d-wymiarowe kule, do których przyporządkowuje się punkty tego podzbioru - w wyniku tego powstają 2 podzbiory (niższe węzły drzewa)\n",
    "  - złożoność czasowa: średnio __O(d \\* M \\* log(M))__\n",
    "\n",
    "- metoda *auto* wybiera najlepszy algorytm z powyższych zależnie od danych w zbiorze treningowym\n",
    "- więcej szczegółów i wskazówki dot. wyboru parametrów można znaleźć [ tutaj ](https://scikit-learn.org/stable/modules/neighbors.html#nearest-neighbor-algorithms)\n",
    "\n",
    "**-> metric**: standardowo odległość Euklidesowa (metryka Minkowskiego z p=2), można przekazać dowolną funkcję z **sklearn.neighbors.DistanceMetric**\n",
    "\n",
    "**-> p**: wartość p dla metryki Minkowskiego\n",
    "\n",
    "**-> n_jobs**: liczba używanych procesów"
   ]
  },
  {
   "cell_type": "markdown",
   "metadata": {
    "colab_type": "text",
    "id": "c0FklRUdtWYW"
   },
   "source": [
    "Wyznaczymy teraz najbliższych sąsiadów w załadowanym zbiorze. Tworzymy w tym celu 2-wymiarową tablicę X i wektor odpowiedzi y."
   ]
  },
  {
   "cell_type": "code",
   "execution_count": 24,
   "metadata": {
    "colab": {},
    "colab_type": "code",
    "id": "9Y8FsVr2gYjg"
   },
   "outputs": [],
   "source": [
    "from sklearn.neighbors import NearestNeighbors\n",
    "\n",
    "assert times_img.shape[1:] == roman_img.shape[1:]\n",
    "\n",
    "w, h = times_img.shape[1:]\n",
    "X = np.concatenate([times_img, roman_img])\n",
    "X = X.reshape((X.shape[0], -1))\n",
    "y = np.concatenate([np.zeros(len(times_img)), np.ones(len(roman_img))])\n",
    "\n",
    "invalid_samples = np.any(np.isnan(X), axis=1)\n",
    "X = X[~invalid_samples]\n",
    "y = y[~invalid_samples]"
   ]
  },
  {
   "cell_type": "markdown",
   "metadata": {
    "colab_type": "text",
    "id": "5lbiiADfpci_"
   },
   "source": [
    "Dopasowujemy *Ball Tree* do danych."
   ]
  },
  {
   "cell_type": "code",
   "execution_count": 25,
   "metadata": {
    "colab": {},
    "colab_type": "code",
    "id": "JPB3cBGG0DTC"
   },
   "outputs": [],
   "source": [
    "k = 50\n",
    "nbrs = NearestNeighbors(n_neighbors=k, algorithm='ball_tree').fit(X)"
   ]
  },
  {
   "cell_type": "markdown",
   "metadata": {
    "colab_type": "text",
    "id": "oq3tj2e4flzU"
   },
   "source": [
    "Wybierzmy przykładowy obrazek i sprawdźmy, jak wyglądają jego najbliżsi sąsiedzi."
   ]
  },
  {
   "cell_type": "code",
   "execution_count": 26,
   "metadata": {
    "colab": {},
    "colab_type": "code",
    "id": "yscWCDsFfeqX"
   },
   "outputs": [
    {
     "data": {
      "image/png": "[encoded data removed]",
      "text/plain": [
       "<Figure size 1440x288 with 2 Axes>"
      ]
     },
     "metadata": {
      "needs_background": "light"
     },
     "output_type": "display_data"
    }
   ],
   "source": [
    "target_ind = len(times_img) + 42\n",
    "target_img = X[target_ind].reshape((1, w, h))\n",
    "plot_fonts(target_img, n_cols=1)"
   ]
  },
  {
   "cell_type": "code",
   "execution_count": 27,
   "metadata": {
    "colab": {},
    "colab_type": "code",
    "id": "n4Uez0hFeVix"
   },
   "outputs": [
    {
     "data": {
      "image/png": "[encoded data removed]",
      "text/plain": [
       "<Figure size 1440x720 with 50 Axes>"
      ]
     },
     "metadata": {
      "needs_background": "light"
     },
     "output_type": "display_data"
    }
   ],
   "source": [
    "distances, indices = nbrs.kneighbors(target_img.reshape(1, -1))\n",
    "neighbor_inds = indices[0][1:]  # indices[0][0] is target_img index\n",
    "\n",
    "neighbors = X[neighbor_inds].reshape((k - 1, w, h))\n",
    "plot_fonts(neighbors, n_cols=10)"
   ]
  },
  {
   "cell_type": "markdown",
   "metadata": {
    "colab_type": "text",
    "id": "reR-gn2Yk6M0"
   },
   "source": [
    "Jak widać, najbliżsi sąsiedzi faktycznie odpowiadają wybranemu obrazkowi, dalsi niekoniecznie."
   ]
  },
  {
   "cell_type": "markdown",
   "metadata": {
    "colab_type": "text",
    "id": "C-98lq0CQ_lQ"
   },
   "source": [
    "### **Klasyfikacja.**\n",
    "Można użyć klasy *KNeighborsClassifier*. Do dyspozycji mamy te parametry co poprzednio, a także parametr *weights*. Domyślnie wagi są sobie równe, podanie wartości *distance* zmniejsza je wraz z ze wzrostem odległości."
   ]
  },
  {
   "cell_type": "markdown",
   "metadata": {
    "colab_type": "text",
    "id": "yDNqa0jJqzcW"
   },
   "source": [
    "Sprawdzimy, jak nasz klasyfikator poradzi sobie z odróżnianiem znaków czcionki Arial od znaków czcionki Consolas.\n",
    "W tym celu dzielimy zbiór X na zbiory treningowy i testowy. Najpierw jednak zmniejszamy rozmiar zbioru, aby skrócić czas działania."
   ]
  },
  {
   "cell_type": "code",
   "execution_count": 28,
   "metadata": {
    "colab": {},
    "colab_type": "code",
    "id": "B9Ggx-PMQ8ca"
   },
   "outputs": [],
   "source": [
    "from sklearn.model_selection import train_test_split\n",
    "from sklearn.utils import resample\n",
    "\n",
    "sub_size = int(len(X) * 0.1)\n",
    "X_sub, y_sub = resample(X, y, n_samples=sub_size, replace=False, random_state=0)\n",
    "X_train, X_test, y_train, y_test = train_test_split(X_sub, y_sub, test_size=0.4, random_state=0)"
   ]
  },
  {
   "cell_type": "markdown",
   "metadata": {
    "colab_type": "text",
    "id": "c646e3NFsF8M"
   },
   "source": [
    "Następnie dopasowujemy klasyfikator do zbioru treningowego i sprawdzamy odsetek poprawnych predykcji na zbiorze testowym."
   ]
  },
  {
   "cell_type": "code",
   "execution_count": 29,
   "metadata": {
    "colab": {},
    "colab_type": "code",
    "id": "Lc3KRJQHr_AP"
   },
   "outputs": [
    {
     "data": {
      "text/plain": [
       "KNeighborsClassifier(algorithm='auto', leaf_size=30, metric='minkowski',\n",
       "                     metric_params=None, n_jobs=None, n_neighbors=3, p=2,\n",
       "                     weights='uniform')"
      ]
     },
     "execution_count": 29,
     "metadata": {},
     "output_type": "execute_result"
    }
   ],
   "source": [
    "from sklearn.neighbors import KNeighborsClassifier\n",
    "from sklearn.metrics import accuracy_score\n",
    "neigh = KNeighborsClassifier(n_neighbors=3, algorithm='auto')\n",
    "neigh.fit(X_train, y_train)"
   ]
  },
  {
   "cell_type": "code",
   "execution_count": 30,
   "metadata": {
    "colab": {},
    "colab_type": "code",
    "id": "6CoZ91W-s8U2"
   },
   "outputs": [
    {
     "data": {
      "text/plain": [
       "0.725"
      ]
     },
     "execution_count": 30,
     "metadata": {},
     "output_type": "execute_result"
    }
   ],
   "source": [
    "y_pred = neigh.predict(X_test)\n",
    "accuracy_score(y_true=y_test, y_pred=y_pred)"
   ]
  },
  {
   "cell_type": "markdown",
   "metadata": {
    "colab_type": "text",
    "id": "-UjA1jBRvjex"
   },
   "source": [
    "Wynik jest zaskakująco wysoki. W następnym kroku chcielibyśmy sprawdzić, czy da się go poprawić, modyfikując hiperparametry modelu (przede wszystkim liczbę sąsiadów k)."
   ]
  },
  {
   "cell_type": "markdown",
   "metadata": {
    "colab_type": "text",
    "id": "jqyaY_YYhY3_"
   },
   "source": [
    "# 4. *Cross-validation*.\n",
    "\n",
    "Jeśli jako ostateczne wybierzemy hiperparametry, dla których model uzyskuje najlepszą wartość metryki na zbiorze testowym, to wynik ten prawdopodobnie będzie lepszy niż wynik dla danych, z którymi model nie miał styczności. Inaczej mówiąc, model ten jest \"dopasowany\" do konkretnego zbioru testowego.\n",
    "\n",
    "Z tego powodu dane można podzielić na zbiór treningowy, walidacyjny i testowy, np. w proporcji 60:20:20, i ostateczne hiperparametry wybrać w oparciu o wynik na zbiorze walidacyjnym. Wynik na zbiorze testowym daje zaś wiarygodne oszacowanie jakości modelu dla nowych danych.\n",
    "\n",
    "Powoduje to jednak znaczne zmniejszenie zbioru treningowego, co może zmniejszyć wiarygodność rezultatu. Przeciwdziałamy temu, stosując cross-validation. \n",
    "\n",
    "Dla przykładu, *k*-krotna cross-walidacja polega na podzieleniu danych na zbiór cross-walidacyjny i testowy, np. w proporcji 80:20. Następnie, zbiór cross-walidacyjny dzieli się na k części. Jedną z nich traktuje się jako zbiór walidacyjny, a pozostałe łącznie - jako treningowy. Na tych danych trenuje się i waliduje model z ustalonymi hiperparametrami. Ta procedura jest wykonywana k-krotnie, za każdym razem wybieramy inną część jako zbiór walidacyjny. \n",
    "\n",
    "Uzyskuje się w ten sposób k wartości metryki, które można uśrednić, uzyskując bardziej wiarygodny wynik dla danych hiperparametrów. Jako ostateczne wybiera się hiperparametry, dla których uzyskana średnia była najlepsza. "
   ]
  },
  {
   "cell_type": "markdown",
   "metadata": {
    "colab_type": "text",
    "id": "ICwAo5p5RfH5"
   },
   "source": [
    "Dla przykładu, wyznaczamy wartości *accuracy* dopasowanego modelu w 5-krotnej cross-walidacji."
   ]
  },
  {
   "cell_type": "code",
   "execution_count": 31,
   "metadata": {
    "colab": {},
    "colab_type": "code",
    "id": "aFk5uODFRdqc"
   },
   "outputs": [
    {
     "data": {
      "text/plain": [
       "array([0.625     , 0.66666667, 0.66666667, 0.75      , 0.83333333])"
      ]
     },
     "execution_count": 31,
     "metadata": {},
     "output_type": "execute_result"
    }
   ],
   "source": [
    "from sklearn.model_selection import cross_val_score\n",
    "scores = cross_val_score(neigh, X_train, y_train, cv=5)\n",
    "scores"
   ]
  },
  {
   "cell_type": "markdown",
   "metadata": {
    "colab_type": "text",
    "id": "WO5NG61VrC62"
   },
   "source": [
    "# 5. Wpływ hiperparametrów i rozmiaru zbioru treningowego na jakość klasyfikatora."
   ]
  },
  {
   "cell_type": "markdown",
   "metadata": {
    "colab_type": "text",
    "id": "wawCn6gbMcCF"
   },
   "source": [
    "Zbadamy teraz wpływ hiperparametrów takich jak liczba sąsiadów k i użyte wagi na wynik cross-validacji dla modelu k-NN. Sprawdzimy również, jakie znaczenie ma rozmiar zbioru treningowego w stosunku do rozmiaru zbioru testowego.\n",
    "\n"
   ]
  },
  {
   "cell_type": "code",
   "execution_count": 32,
   "metadata": {
    "colab": {},
    "colab_type": "code",
    "id": "GZt98-7xscAy"
   },
   "outputs": [],
   "source": [
    "def check(X, y, fraction=0.1):\n",
    "    X_train, X_test, y_train, y_test = train_test_split(X, y, test_size=0.4, random_state=0)\n",
    "    sub_size = int(len(X_train) * fraction)\n",
    "    X_train, y_train = resample(X_train, y_train, n_samples=sub_size, replace=False, random_state=0)\n",
    "\n",
    "    model = KNeighborsClassifier(n_neighbors=5, algorithm='auto')\n",
    "    model.fit(X_train, y_train)\n",
    "\n",
    "    y_pred = model.predict(X_test)\n",
    "    return model, accuracy_score(y_true=y_test, y_pred=y_pred)"
   ]
  },
  {
   "cell_type": "code",
   "execution_count": 33,
   "metadata": {
    "colab": {},
    "colab_type": "code",
    "id": "whVbuV6Yxoqd"
   },
   "outputs": [
    {
     "data": {
      "text/plain": [
       "(KNeighborsClassifier(algorithm='auto', leaf_size=30, metric='minkowski',\n",
       "                      metric_params=None, n_jobs=None, n_neighbors=5, p=2,\n",
       "                      weights='uniform'),\n",
       " 0.71125)"
      ]
     },
     "execution_count": 33,
     "metadata": {},
     "output_type": "execute_result"
    }
   ],
   "source": [
    "check(X, y)"
   ]
  },
  {
   "cell_type": "code",
   "execution_count": 34,
   "metadata": {
    "colab": {},
    "colab_type": "code",
    "id": "wWvrlKkLyNGA"
   },
   "outputs": [
    {
     "data": {
      "text/plain": [
       "(KNeighborsClassifier(algorithm='auto', leaf_size=30, metric='minkowski',\n",
       "                      metric_params=None, n_jobs=None, n_neighbors=5, p=2,\n",
       "                      weights='uniform'),\n",
       " 0.7625)"
      ]
     },
     "execution_count": 34,
     "metadata": {},
     "output_type": "execute_result"
    }
   ],
   "source": [
    "check(X, y, fraction=0.5)"
   ]
  },
  {
   "cell_type": "markdown",
   "metadata": {
    "colab_type": "text",
    "id": "QlUg-nq_sFCu"
   },
   "source": [
    "Bardzo użyteczna jest klasa *GridSearchCV*, której można użyć do przeprowadzenia cross-walidacji dla wielu różnych kombinacji hiperparametrów."
   ]
  },
  {
   "cell_type": "code",
   "execution_count": 35,
   "metadata": {
    "colab": {},
    "colab_type": "code",
    "id": "B93iSEmlLiRI"
   },
   "outputs": [
    {
     "data": {
      "text/plain": [
       "GridSearchCV(cv=None, error_score=nan,\n",
       "             estimator=KNeighborsClassifier(algorithm='auto', leaf_size=30,\n",
       "                                            metric='minkowski',\n",
       "                                            metric_params=None, n_jobs=None,\n",
       "                                            n_neighbors=5, p=2,\n",
       "                                            weights='uniform'),\n",
       "             iid='deprecated', n_jobs=None,\n",
       "             param_grid={'n_neighbors': (2, 3, 5),\n",
       "                         'weights': ('uniform', 'distance')},\n",
       "             pre_dispatch='2*n_jobs', refit=True, return_train_score=False,\n",
       "             scoring=None, verbose=0)"
      ]
     },
     "execution_count": 35,
     "metadata": {},
     "output_type": "execute_result"
    }
   ],
   "source": [
    "from sklearn.model_selection import GridSearchCV\n",
    "\n",
    "params = {\n",
    "  'n_neighbors': (2, 3, 5),\n",
    "  'weights': ('uniform', 'distance')\n",
    "}\n",
    "knn = KNeighborsClassifier(algorithm='auto')\n",
    "clf = GridSearchCV(knn, params)\n",
    "\n",
    "sub_size = int(len(X) * 0.1)\n",
    "X_sub, y_sub = resample(X, y, n_samples=sub_size, replace=False, random_state=0)\n",
    "X_train, X_test, y_train, y_test = train_test_split(X_sub, y_sub, test_size=0.4, random_state=0)\n",
    "\n",
    "clf.fit(X_train, y_train)"
   ]
  },
  {
   "cell_type": "markdown",
   "metadata": {
    "colab_type": "text",
    "id": "82R3G1mlVjVo"
   },
   "source": [
    "Po wykonaniu metody *fit* mamy dostęp do wyników cross-walidacji dla poszczególnych zestawów hiperparametrów, a także do najlepszego spośród nich.\n"
   ]
  },
  {
   "cell_type": "code",
   "execution_count": 36,
   "metadata": {
    "colab": {},
    "colab_type": "code",
    "id": "vEU7dv9ZUHQw"
   },
   "outputs": [
    {
     "data": {
      "text/html": [
       "<div>\n",
       "<style scoped>\n",
       "    .dataframe tbody tr th:only-of-type {\n",
       "        vertical-align: middle;\n",
       "    }\n",
       "\n",
       "    .dataframe tbody tr th {\n",
       "        vertical-align: top;\n",
       "    }\n",
       "\n",
       "    .dataframe thead th {\n",
       "        text-align: right;\n",
       "    }\n",
       "</style>\n",
       "<table border=\"1\" class=\"dataframe\">\n",
       "  <thead>\n",
       "    <tr style=\"text-align: right;\">\n",
       "      <th></th>\n",
       "      <th>n_neighbors</th>\n",
       "      <th>weights</th>\n",
       "      <th>eval_score</th>\n",
       "    </tr>\n",
       "  </thead>\n",
       "  <tbody>\n",
       "    <tr>\n",
       "      <th>1</th>\n",
       "      <td>5</td>\n",
       "      <td>distance</td>\n",
       "      <td>0.733333</td>\n",
       "    </tr>\n",
       "    <tr>\n",
       "      <th>2</th>\n",
       "      <td>5</td>\n",
       "      <td>uniform</td>\n",
       "      <td>0.725000</td>\n",
       "    </tr>\n",
       "    <tr>\n",
       "      <th>3</th>\n",
       "      <td>3</td>\n",
       "      <td>distance</td>\n",
       "      <td>0.716667</td>\n",
       "    </tr>\n",
       "    <tr>\n",
       "      <th>4</th>\n",
       "      <td>2</td>\n",
       "      <td>uniform</td>\n",
       "      <td>0.708333</td>\n",
       "    </tr>\n",
       "    <tr>\n",
       "      <th>4</th>\n",
       "      <td>3</td>\n",
       "      <td>uniform</td>\n",
       "      <td>0.708333</td>\n",
       "    </tr>\n",
       "    <tr>\n",
       "      <th>6</th>\n",
       "      <td>2</td>\n",
       "      <td>distance</td>\n",
       "      <td>0.633333</td>\n",
       "    </tr>\n",
       "  </tbody>\n",
       "</table>\n",
       "</div>"
      ],
      "text/plain": [
       "   n_neighbors   weights  eval_score\n",
       "1            5  distance    0.733333\n",
       "2            5   uniform    0.725000\n",
       "3            3  distance    0.716667\n",
       "4            2   uniform    0.708333\n",
       "4            3   uniform    0.708333\n",
       "6            2  distance    0.633333"
      ]
     },
     "execution_count": 36,
     "metadata": {},
     "output_type": "execute_result"
    }
   ],
   "source": [
    "def grid_cv_table(cv_results):\n",
    "    param_cols = pd.DataFrame(clf.cv_results_['params'])\n",
    "    score_cols = pd.DataFrame(clf.cv_results_['mean_test_score'], columns=['eval_score'])\n",
    "    est_df = pd.concat([param_cols, score_cols], axis=1)\n",
    "    return est_df.set_index(clf.cv_results_['rank_test_score']).sort_index()\n",
    "\n",
    "grid_cv_table(clf.cv_results_)"
   ]
  },
  {
   "cell_type": "code",
   "execution_count": 37,
   "metadata": {
    "colab": {},
    "colab_type": "code",
    "id": "ElMaW54TWBeI"
   },
   "outputs": [
    {
     "data": {
      "text/plain": [
       "{'n_neighbors': 5, 'weights': 'distance'}"
      ]
     },
     "execution_count": 37,
     "metadata": {},
     "output_type": "execute_result"
    }
   ],
   "source": [
    "clf.best_params_"
   ]
  },
  {
   "cell_type": "markdown",
   "metadata": {
    "colab_type": "text",
    "id": "PnX7D-RRVHpW"
   },
   "source": [
    "Można użyć najlepszych znalezionych hiperparametrów do określenia *accuracy* na zbiorze testowym."
   ]
  },
  {
   "cell_type": "code",
   "execution_count": 38,
   "metadata": {
    "colab": {},
    "colab_type": "code",
    "id": "bqudt6QpUbjU"
   },
   "outputs": [
    {
     "data": {
      "text/plain": [
       "0.775"
      ]
     },
     "execution_count": 38,
     "metadata": {},
     "output_type": "execute_result"
    }
   ],
   "source": [
    "y_pred_best = clf.predict(X_test)\n",
    "accuracy_score(y_true=y_test, y_pred=y_pred_best)"
   ]
  },
  {
   "cell_type": "markdown",
   "metadata": {
    "colab_type": "text",
    "id": "lYES3i1M1gB3"
   },
   "source": [
    "### Inne miary jakości w klasyfikacji\n"
   ]
  },
  {
   "cell_type": "markdown",
   "metadata": {
    "colab_type": "text",
    "id": "Qo5avy0Y1l1K"
   },
   "source": [
    "Klasycznym przykładem niedoskonałości *accuracy* jako miary jakości klasyfikatora jest problem niezrównoważonych klas. Jeśli 99% zbioru testowego stanowią przykłady klasy 0, a tylko 1% klasy 1, to klasyfikator zwracający zawsze 0 osiąga dokładność 99%.\n",
    "\n",
    "Wprowadza się więc miary *precision* i *recall*, definiowane następująco:\n",
    "\n",
    "$precision = \\frac{TP}{TP + FP}$\n",
    "\n",
    "$recall = \\frac{TP}{TP + FN},$\n",
    "\n",
    "gdzie:\n",
    " - TP to liczba *true positives*, czyli przykładów klasy 1, które zostały poprawnie zaklasyfikowane jako 1,\n",
    " - FP to liczba *false positives* (zaklasyfikowane jako 1, naprawdę klasy 0),\n",
    " - FN to liczba *false negatives* (zaklasyfikowane jako 0, naprawdę klasy 1).\n",
    "\n",
    "Wysokie *precision* oznacza, że duży odsetek pozytywnych predykcji naszego klasyfikatora jest poprawny (w powyższym przykładzie jest niezdefiniowane - brak pozytywnych predykcji). Wysokie *recall*, że niewiele przykładów, które faktycznie są pozytywne mu \"umyka\" (daje predykcję 0) (w powyższym przykładzie 0%).\n",
    "\n",
    "Aby zbalansować obie te wielkości, stosuje się F1 score, zdefiniowany jako\n",
    "\n",
    "$F1 = \\frac{2}{\\frac{1}{precision} + \\frac{1}{recall}}$\n",
    "\n",
    "Żeby przyjmował duże wartości, zarówno *precision* jak i *recall* muszą być wysokie.\n"
   ]
  },
  {
   "cell_type": "code",
   "execution_count": 39,
   "metadata": {
    "colab": {},
    "colab_type": "code",
    "id": "PqNquk3U1pCE"
   },
   "outputs": [
    {
     "data": {
      "text/plain": [
       "0.8085106382978724"
      ]
     },
     "execution_count": 39,
     "metadata": {},
     "output_type": "execute_result"
    }
   ],
   "source": [
    "from sklearn.metrics import f1_score\n",
    "f1_score(y_true=y_test, y_pred=y_pred_best)"
   ]
  },
  {
   "cell_type": "markdown",
   "metadata": {
    "colab_type": "text",
    "id": "4_oxCvvC1vp2"
   },
   "source": [
    "Sprawdźmy jeszcze, czy model najlepszy pod względem *accuracy* jest też najlepszy pod względem F1."
   ]
  },
  {
   "cell_type": "code",
   "execution_count": 40,
   "metadata": {
    "colab": {},
    "colab_type": "code",
    "id": "xsRNA76E1tZe"
   },
   "outputs": [
    {
     "data": {
      "text/html": [
       "<div>\n",
       "<style scoped>\n",
       "    .dataframe tbody tr th:only-of-type {\n",
       "        vertical-align: middle;\n",
       "    }\n",
       "\n",
       "    .dataframe tbody tr th {\n",
       "        vertical-align: top;\n",
       "    }\n",
       "\n",
       "    .dataframe thead th {\n",
       "        text-align: right;\n",
       "    }\n",
       "</style>\n",
       "<table border=\"1\" class=\"dataframe\">\n",
       "  <thead>\n",
       "    <tr style=\"text-align: right;\">\n",
       "      <th></th>\n",
       "      <th>n_neighbors</th>\n",
       "      <th>weights</th>\n",
       "      <th>eval_score</th>\n",
       "    </tr>\n",
       "  </thead>\n",
       "  <tbody>\n",
       "    <tr>\n",
       "      <th>1</th>\n",
       "      <td>5</td>\n",
       "      <td>distance</td>\n",
       "      <td>0.774861</td>\n",
       "    </tr>\n",
       "    <tr>\n",
       "      <th>2</th>\n",
       "      <td>5</td>\n",
       "      <td>uniform</td>\n",
       "      <td>0.768950</td>\n",
       "    </tr>\n",
       "    <tr>\n",
       "      <th>3</th>\n",
       "      <td>3</td>\n",
       "      <td>distance</td>\n",
       "      <td>0.754010</td>\n",
       "    </tr>\n",
       "    <tr>\n",
       "      <th>4</th>\n",
       "      <td>3</td>\n",
       "      <td>uniform</td>\n",
       "      <td>0.748952</td>\n",
       "    </tr>\n",
       "    <tr>\n",
       "      <th>5</th>\n",
       "      <td>2</td>\n",
       "      <td>uniform</td>\n",
       "      <td>0.693333</td>\n",
       "    </tr>\n",
       "    <tr>\n",
       "      <th>6</th>\n",
       "      <td>2</td>\n",
       "      <td>distance</td>\n",
       "      <td>0.666709</td>\n",
       "    </tr>\n",
       "  </tbody>\n",
       "</table>\n",
       "</div>"
      ],
      "text/plain": [
       "   n_neighbors   weights  eval_score\n",
       "1            5  distance    0.774861\n",
       "2            5   uniform    0.768950\n",
       "3            3  distance    0.754010\n",
       "4            3   uniform    0.748952\n",
       "5            2   uniform    0.693333\n",
       "6            2  distance    0.666709"
      ]
     },
     "execution_count": 40,
     "metadata": {},
     "output_type": "execute_result"
    }
   ],
   "source": [
    "from sklearn.metrics import make_scorer\n",
    "f1_scorer = make_scorer(f1_score)\n",
    "clf = GridSearchCV(knn, params, scoring=f1_scorer)\n",
    "clf.fit(X_train, y_train)\n",
    "grid_cv_table(clf.cv_results_)"
   ]
  },
  {
   "cell_type": "markdown",
   "metadata": {},
   "source": [
    "# 6. Augumentacja danych.\n",
    "\n",
    "Stwórzmy prostą funkcję, która będzie dodawała szum do przekazanego jej obrazka."
   ]
  },
  {
   "cell_type": "code",
   "execution_count": 41,
   "metadata": {},
   "outputs": [
    {
     "data": {
      "image/png": "[encoded data removed]",
      "text/plain": [
       "<Figure size 1440x144 with 10 Axes>"
      ]
     },
     "metadata": {
      "needs_background": "light"
     },
     "output_type": "display_data"
    },
    {
     "data": {
      "image/png": "[encoded data removed]",
      "text/plain": [
       "<Figure size 1440x144 with 10 Axes>"
      ]
     },
     "metadata": {
      "needs_background": "light"
     },
     "output_type": "display_data"
    }
   ],
   "source": [
    "def salt_and_pepper(image, percent=0.05):\n",
    "    h, w = image.shape\n",
    "    pixels = np.random.randint(0, w * h, int(percent * w * h))\n",
    "    for p in pixels:\n",
    "        image[p // w][p % w] = np.random.randint(0, 256)\n",
    "    return image\n",
    "\n",
    "plot_fonts([times_img[0]])\n",
    "plot_fonts([salt_and_pepper(np.copy(times_img[0]), percent=0.1)])"
   ]
  },
  {
   "cell_type": "code",
   "execution_count": 42,
   "metadata": {},
   "outputs": [
    {
     "data": {
      "text/plain": [
       "GridSearchCV(cv=None, error_score=nan,\n",
       "             estimator=KNeighborsClassifier(algorithm='auto', leaf_size=30,\n",
       "                                            metric='minkowski',\n",
       "                                            metric_params=None, n_jobs=None,\n",
       "                                            n_neighbors=5, p=2,\n",
       "                                            weights='uniform'),\n",
       "             iid='deprecated', n_jobs=None,\n",
       "             param_grid={'n_neighbors': (2, 3, 5),\n",
       "                         'weights': ('uniform', 'distance')},\n",
       "             pre_dispatch='2*n_jobs', refit=True, return_train_score=False,\n",
       "             scoring=None, verbose=0)"
      ]
     },
     "execution_count": 42,
     "metadata": {},
     "output_type": "execute_result"
    }
   ],
   "source": [
    "from sklearn.utils import shuffle\n",
    "\n",
    "X = np.concatenate([times_img, roman_img])\n",
    "y = np.concatenate([np.zeros(len(times_img)), np.ones(len(roman_img))])\n",
    "\n",
    "sub_size = int(len(X) * 0.5)\n",
    "X_sub, y_sub = resample(X, y, n_samples=sub_size, replace=False, random_state=0)\n",
    "X_train, X_test, y_train, y_test = train_test_split(X_sub, y_sub, test_size=0.4, random_state=0)\n",
    "\n",
    "X_train_a = np.copy(X_train)\n",
    "for train in X_train_a:\n",
    "    salt_and_pepper(train, percent=0.05)\n",
    "\n",
    "y_train_a = y_train\n",
    "\n",
    "X_train_aug = np.concatenate([X_train, X_train_a])\n",
    "y_train_aug = np.concatenate([y_train, y_train_a])\n",
    "\n",
    "X_train_aug, y_train_aug = shuffle(X_train_aug, y_train_aug)\n",
    "\n",
    "X_test = X_test.reshape((X_test.shape[0], -1))\n",
    "X_train_aug = X_train_aug.reshape((X_train_aug.shape[0], -1))\n",
    "\n",
    "params = {\n",
    "  'n_neighbors': (2, 3, 5),\n",
    "  'weights': ('uniform', 'distance')\n",
    "}\n",
    "knn = KNeighborsClassifier(algorithm='auto')\n",
    "clf = GridSearchCV(knn, params)\n",
    "clf.fit(X_train_aug, y_train_aug)"
   ]
  },
  {
   "cell_type": "code",
   "execution_count": 43,
   "metadata": {},
   "outputs": [
    {
     "data": {
      "text/html": [
       "<div>\n",
       "<style scoped>\n",
       "    .dataframe tbody tr th:only-of-type {\n",
       "        vertical-align: middle;\n",
       "    }\n",
       "\n",
       "    .dataframe tbody tr th {\n",
       "        vertical-align: top;\n",
       "    }\n",
       "\n",
       "    .dataframe thead th {\n",
       "        text-align: right;\n",
       "    }\n",
       "</style>\n",
       "<table border=\"1\" class=\"dataframe\">\n",
       "  <thead>\n",
       "    <tr style=\"text-align: right;\">\n",
       "      <th></th>\n",
       "      <th>n_neighbors</th>\n",
       "      <th>weights</th>\n",
       "      <th>eval_score</th>\n",
       "    </tr>\n",
       "  </thead>\n",
       "  <tbody>\n",
       "    <tr>\n",
       "      <th>1</th>\n",
       "      <td>2</td>\n",
       "      <td>distance</td>\n",
       "      <td>0.940000</td>\n",
       "    </tr>\n",
       "    <tr>\n",
       "      <th>2</th>\n",
       "      <td>3</td>\n",
       "      <td>distance</td>\n",
       "      <td>0.936667</td>\n",
       "    </tr>\n",
       "    <tr>\n",
       "      <th>3</th>\n",
       "      <td>5</td>\n",
       "      <td>distance</td>\n",
       "      <td>0.884167</td>\n",
       "    </tr>\n",
       "    <tr>\n",
       "      <th>4</th>\n",
       "      <td>2</td>\n",
       "      <td>uniform</td>\n",
       "      <td>0.881667</td>\n",
       "    </tr>\n",
       "    <tr>\n",
       "      <th>5</th>\n",
       "      <td>5</td>\n",
       "      <td>uniform</td>\n",
       "      <td>0.825000</td>\n",
       "    </tr>\n",
       "    <tr>\n",
       "      <th>6</th>\n",
       "      <td>3</td>\n",
       "      <td>uniform</td>\n",
       "      <td>0.820000</td>\n",
       "    </tr>\n",
       "  </tbody>\n",
       "</table>\n",
       "</div>"
      ],
      "text/plain": [
       "   n_neighbors   weights  eval_score\n",
       "1            2  distance    0.940000\n",
       "2            3  distance    0.936667\n",
       "3            5  distance    0.884167\n",
       "4            2   uniform    0.881667\n",
       "5            5   uniform    0.825000\n",
       "6            3   uniform    0.820000"
      ]
     },
     "execution_count": 43,
     "metadata": {},
     "output_type": "execute_result"
    }
   ],
   "source": [
    "grid_cv_table(clf.cv_results_)"
   ]
  },
  {
   "cell_type": "code",
   "execution_count": 44,
   "metadata": {},
   "outputs": [
    {
     "data": {
      "text/plain": [
       "0.7925"
      ]
     },
     "execution_count": 44,
     "metadata": {},
     "output_type": "execute_result"
    }
   ],
   "source": [
    "y_pred_best = clf.predict(X_test)\n",
    "accuracy_score(y_true=y_test, y_pred=y_pred_best)"
   ]
  },
  {
   "cell_type": "code",
   "execution_count": 45,
   "metadata": {},
   "outputs": [
    {
     "data": {
      "text/plain": [
       "0.8134831460674157"
      ]
     },
     "execution_count": 45,
     "metadata": {},
     "output_type": "execute_result"
    }
   ],
   "source": [
    "f1_score(y_true=y_test, y_pred=y_pred_best)"
   ]
  },
  {
   "cell_type": "markdown",
   "metadata": {
    "colab_type": "text",
    "id": "NImUvY-8FR4g"
   },
   "source": [
    "# 7. Procedury augumentacyjne z biblioteki imgaug.\n",
    "\n",
    "\"This python library helps you with augmenting images for your machine learning projects. It converts a set of input images into a new, much larger set of slightly altered images.\"\n",
    "\n",
    "https://github.com/aleju/imgaug"
   ]
  },
  {
   "cell_type": "code",
   "execution_count": 46,
   "metadata": {
    "colab": {},
    "colab_type": "code",
    "id": "GX-XYdrvFcQW"
   },
   "outputs": [
    {
     "data": {
      "image/png": "[encoded data removed]",
      "text/plain": [
       "<Figure size 1440x1584 with 110 Axes>"
      ]
     },
     "metadata": {
      "needs_background": "light"
     },
     "output_type": "display_data"
    }
   ],
   "source": [
    "import imgaug as ia\n",
    "import imgaug.augmenters as iaa\n",
    "\n",
    "N = 100\n",
    "\n",
    "def augment(images):\n",
    "    seq = iaa.Sequential(\n",
    "        [\n",
    "            iaa.Crop(px=(1, 2), keep_size=True),\n",
    "            iaa.SomeOf((0, 3),\n",
    "                [\n",
    "                    iaa.Affine(\n",
    "                        scale={\"x\": (0.8, 1.2), \"y\": (0.8, 1.2)},\n",
    "                        rotate=(-20, 20),\n",
    "                        order=[0, 1],\n",
    "                        cval=(0, 255),\n",
    "                        mode=ia.ALL,\n",
    "                    ),\n",
    "                    iaa.GaussianBlur((0, 0.5)),\n",
    "                    iaa.SaltAndPepper(0.05),\n",
    "                ],\n",
    "                random_order=True\n",
    "            )\n",
    "        ]\n",
    "    )\n",
    "\n",
    "    imagesX = images[:, :, :, np.newaxis]\n",
    "    images_aug = seq(images=imagesX)\n",
    "    return [np.squeeze(img) for img in images_aug]\n",
    "\n",
    "times_aug = augment(times_img[:N])\n",
    "plot_fonts(times_aug)"
   ]
  },
  {
   "cell_type": "markdown",
   "metadata": {
    "colab_type": "text",
    "id": "ZKZOq0Q32XEc"
   },
   "source": [
    "Sprawdźmy, czy zdołamy uzyskać lepszy wynik klasyfikacji, jeśli wytrenujemy model po augmentacji obu klas."
   ]
  },
  {
   "cell_type": "code",
   "execution_count": 47,
   "metadata": {
    "colab": {},
    "colab_type": "code",
    "id": "1Orvk3Ki2gJ4"
   },
   "outputs": [],
   "source": [
    "from sklearn.utils import shuffle\n",
    "\n",
    "X = np.concatenate([times_img, roman_img])\n",
    "y = np.concatenate([np.zeros(len(times_img)), np.ones(len(roman_img))])\n",
    "\n",
    "sub_size = int(len(X) * 0.5)\n",
    "X_sub, y_sub = resample(X, y, n_samples=sub_size, replace=False, random_state=0)\n",
    "X_train, X_test, y_train, y_test = train_test_split(X_sub, y_sub, test_size=0.4, random_state=0)\n",
    "\n",
    "X_train_a = augment(X_train)\n",
    "y_train_a = y_train\n",
    "\n",
    "X_train_aug = np.concatenate([X_train, X_train_a])\n",
    "y_train_aug = np.concatenate([y_train, y_train_a])\n",
    "\n",
    "X_train_aug, y_train_aug = shuffle(X_train_aug, y_train_aug)\n",
    "\n",
    "X_test = X_test.reshape((X_test.shape[0], -1))\n",
    "X_train_aug = X_train_aug.reshape((X_train_aug.shape[0], -1))"
   ]
  },
  {
   "cell_type": "code",
   "execution_count": 48,
   "metadata": {
    "colab": {},
    "colab_type": "code",
    "id": "0EmCHDMzaPOB"
   },
   "outputs": [
    {
     "data": {
      "text/plain": [
       "GridSearchCV(cv=None, error_score=nan,\n",
       "             estimator=KNeighborsClassifier(algorithm='auto', leaf_size=30,\n",
       "                                            metric='minkowski',\n",
       "                                            metric_params=None, n_jobs=None,\n",
       "                                            n_neighbors=5, p=2,\n",
       "                                            weights='uniform'),\n",
       "             iid='deprecated', n_jobs=None,\n",
       "             param_grid={'n_neighbors': (2, 3, 5),\n",
       "                         'weights': ('uniform', 'distance')},\n",
       "             pre_dispatch='2*n_jobs', refit=True, return_train_score=False,\n",
       "             scoring=None, verbose=0)"
      ]
     },
     "execution_count": 48,
     "metadata": {},
     "output_type": "execute_result"
    }
   ],
   "source": [
    "params = {\n",
    "  'n_neighbors': (2, 3, 5),\n",
    "  'weights': ('uniform', 'distance')\n",
    "}\n",
    "knn = KNeighborsClassifier(algorithm='auto')\n",
    "clf = GridSearchCV(knn, params)\n",
    "clf.fit(X_train_aug, y_train_aug)"
   ]
  },
  {
   "cell_type": "code",
   "execution_count": 49,
   "metadata": {
    "colab": {},
    "colab_type": "code",
    "id": "OXfsKzXnaTP5"
   },
   "outputs": [
    {
     "data": {
      "text/html": [
       "<div>\n",
       "<style scoped>\n",
       "    .dataframe tbody tr th:only-of-type {\n",
       "        vertical-align: middle;\n",
       "    }\n",
       "\n",
       "    .dataframe tbody tr th {\n",
       "        vertical-align: top;\n",
       "    }\n",
       "\n",
       "    .dataframe thead th {\n",
       "        text-align: right;\n",
       "    }\n",
       "</style>\n",
       "<table border=\"1\" class=\"dataframe\">\n",
       "  <thead>\n",
       "    <tr style=\"text-align: right;\">\n",
       "      <th></th>\n",
       "      <th>n_neighbors</th>\n",
       "      <th>weights</th>\n",
       "      <th>eval_score</th>\n",
       "    </tr>\n",
       "  </thead>\n",
       "  <tbody>\n",
       "    <tr>\n",
       "      <th>1</th>\n",
       "      <td>2</td>\n",
       "      <td>distance</td>\n",
       "      <td>0.821667</td>\n",
       "    </tr>\n",
       "    <tr>\n",
       "      <th>2</th>\n",
       "      <td>2</td>\n",
       "      <td>uniform</td>\n",
       "      <td>0.805833</td>\n",
       "    </tr>\n",
       "    <tr>\n",
       "      <th>3</th>\n",
       "      <td>5</td>\n",
       "      <td>distance</td>\n",
       "      <td>0.801667</td>\n",
       "    </tr>\n",
       "    <tr>\n",
       "      <th>4</th>\n",
       "      <td>5</td>\n",
       "      <td>uniform</td>\n",
       "      <td>0.799167</td>\n",
       "    </tr>\n",
       "    <tr>\n",
       "      <th>5</th>\n",
       "      <td>3</td>\n",
       "      <td>uniform</td>\n",
       "      <td>0.792500</td>\n",
       "    </tr>\n",
       "    <tr>\n",
       "      <th>5</th>\n",
       "      <td>3</td>\n",
       "      <td>distance</td>\n",
       "      <td>0.792500</td>\n",
       "    </tr>\n",
       "  </tbody>\n",
       "</table>\n",
       "</div>"
      ],
      "text/plain": [
       "   n_neighbors   weights  eval_score\n",
       "1            2  distance    0.821667\n",
       "2            2   uniform    0.805833\n",
       "3            5  distance    0.801667\n",
       "4            5   uniform    0.799167\n",
       "5            3   uniform    0.792500\n",
       "5            3  distance    0.792500"
      ]
     },
     "execution_count": 49,
     "metadata": {},
     "output_type": "execute_result"
    }
   ],
   "source": [
    "grid_cv_table(clf.cv_results_)"
   ]
  },
  {
   "cell_type": "code",
   "execution_count": 50,
   "metadata": {
    "colab": {},
    "colab_type": "code",
    "id": "lzBzBlToaVzp"
   },
   "outputs": [
    {
     "data": {
      "text/plain": [
       "0.7875"
      ]
     },
     "execution_count": 50,
     "metadata": {},
     "output_type": "execute_result"
    }
   ],
   "source": [
    "y_pred_best = clf.predict(X_test)\n",
    "accuracy_score(y_true=y_test, y_pred=y_pred_best)"
   ]
  },
  {
   "cell_type": "code",
   "execution_count": 51,
   "metadata": {
    "colab": {},
    "colab_type": "code",
    "id": "iyc1L-uQaZfl"
   },
   "outputs": [
    {
     "data": {
      "text/plain": [
       "0.8081264108352145"
      ]
     },
     "execution_count": 51,
     "metadata": {},
     "output_type": "execute_result"
    }
   ],
   "source": [
    "f1_score(y_true=y_test, y_pred=y_pred_best)"
   ]
  },
  {
   "cell_type": "markdown",
   "metadata": {
    "colab_type": "text",
    "id": "gP25SNbUcyct"
   },
   "source": [
    "# 8. Projekt\n",
    "Wykonać punkty 6 i 7 na zbiorach MNIST, FMNIST przy pomocy imgaug oraz tworząc obrazki dodatkowe poprzez zaburzenie danych (np. dla x% pikseli losować liczbę 0,1 (MNIST), i odpowiednią – stopień szarości - dla zbioru FMNIST).\n"
   ]
  },
  {
   "cell_type": "markdown",
   "metadata": {
    "colab_type": "text",
    "id": "0h7oJT1v1wA2"
   },
   "source": [
    "a) Wczytaj zbiór danych MNIST (np. korzystając z biblioteki Tensorflow)."
   ]
  },
  {
   "cell_type": "code",
   "execution_count": 52,
   "metadata": {
    "colab": {},
    "colab_type": "code",
    "id": "bBYA6HCV10AB"
   },
   "outputs": [],
   "source": [
    "(x_train, y_train), (x_test, y_test) = tf.keras.datasets.mnist.load_data()"
   ]
  },
  {
   "cell_type": "markdown",
   "metadata": {
    "colab_type": "text",
    "id": "pGj7CU8h13_o"
   },
   "source": [
    "b) Wybierz 0.03 danych treningowych oraz 0.01 danych testujących."
   ]
  },
  {
   "cell_type": "code",
   "execution_count": 54,
   "metadata": {},
   "outputs": [],
   "source": [
    "sub_train_size = int(len(x_train) * 0.03)\n",
    "sub_test_size = int(len(x_test) * 0.01)\n",
    "X_train, Y_train = resample(x_train, y_train, n_samples=sub_train_size, replace=False, random_state=0)\n",
    "X_test, Y_test = resample(x_test, y_test, n_samples=sub_test_size, replace=False, random_state=0)\n",
    "X_train = X_train.reshape((X_train.shape[0],-1))\n",
    "X_test = X_test.reshape((X_test.shape[0],-1))"
   ]
  },
  {
   "cell_type": "markdown",
   "metadata": {
    "colab_type": "text",
    "id": "dhakLh4K17TU"
   },
   "source": [
    "c) Stwórz klasyfikator k-NN dla zbioru danych."
   ]
  },
  {
   "cell_type": "code",
   "execution_count": 55,
   "metadata": {
    "colab": {},
    "colab_type": "code",
    "id": "EGcmfyx42CTP"
   },
   "outputs": [
    {
     "data": {
      "text/html": [
       "<div>\n",
       "<style scoped>\n",
       "    .dataframe tbody tr th:only-of-type {\n",
       "        vertical-align: middle;\n",
       "    }\n",
       "\n",
       "    .dataframe tbody tr th {\n",
       "        vertical-align: top;\n",
       "    }\n",
       "\n",
       "    .dataframe thead th {\n",
       "        text-align: right;\n",
       "    }\n",
       "</style>\n",
       "<table border=\"1\" class=\"dataframe\">\n",
       "  <thead>\n",
       "    <tr style=\"text-align: right;\">\n",
       "      <th></th>\n",
       "      <th>n_neighbors</th>\n",
       "      <th>weights</th>\n",
       "      <th>eval_score</th>\n",
       "    </tr>\n",
       "  </thead>\n",
       "  <tbody>\n",
       "    <tr>\n",
       "      <th>1</th>\n",
       "      <td>5</td>\n",
       "      <td>distance</td>\n",
       "      <td>0.903889</td>\n",
       "    </tr>\n",
       "    <tr>\n",
       "      <th>2</th>\n",
       "      <td>3</td>\n",
       "      <td>distance</td>\n",
       "      <td>0.902222</td>\n",
       "    </tr>\n",
       "    <tr>\n",
       "      <th>3</th>\n",
       "      <td>3</td>\n",
       "      <td>uniform</td>\n",
       "      <td>0.898889</td>\n",
       "    </tr>\n",
       "    <tr>\n",
       "      <th>4</th>\n",
       "      <td>5</td>\n",
       "      <td>uniform</td>\n",
       "      <td>0.896111</td>\n",
       "    </tr>\n",
       "    <tr>\n",
       "      <th>5</th>\n",
       "      <td>2</td>\n",
       "      <td>distance</td>\n",
       "      <td>0.895556</td>\n",
       "    </tr>\n",
       "    <tr>\n",
       "      <th>6</th>\n",
       "      <td>2</td>\n",
       "      <td>uniform</td>\n",
       "      <td>0.882222</td>\n",
       "    </tr>\n",
       "  </tbody>\n",
       "</table>\n",
       "</div>"
      ],
      "text/plain": [
       "   n_neighbors   weights  eval_score\n",
       "1            5  distance    0.903889\n",
       "2            3  distance    0.902222\n",
       "3            3   uniform    0.898889\n",
       "4            5   uniform    0.896111\n",
       "5            2  distance    0.895556\n",
       "6            2   uniform    0.882222"
      ]
     },
     "execution_count": 55,
     "metadata": {},
     "output_type": "execute_result"
    }
   ],
   "source": [
    "params = {\n",
    "  'n_neighbors': (2, 3, 5),\n",
    "  'weights': ('uniform', 'distance')\n",
    "}\n",
    "\n",
    "knn = KNeighborsClassifier(algorithm='auto')\n",
    "clf = GridSearchCV(knn, params)\n",
    "clf.fit(X_train, Y_train)\n",
    "grid_cv_table(clf.cv_results_)"
   ]
  },
  {
   "cell_type": "markdown",
   "metadata": {
    "colab_type": "text",
    "id": "8C67CaJH18aX"
   },
   "source": [
    "d) Oblicz accuracy oraz F1 score dla klasyfikatora."
   ]
  },
  {
   "cell_type": "code",
   "execution_count": 62,
   "metadata": {
    "colab": {},
    "colab_type": "code",
    "id": "0UJVC8qa2DDO"
   },
   "outputs": [
    {
     "name": "stdout",
     "output_type": "stream",
     "text": [
      "accuracy:  0.9\n",
      "F1_score for each class as possitive:\n",
      " [1.         0.90909091 0.88888889 0.83333333 0.96551724 0.875\n",
      " 1.         0.89655172 0.77777778 0.77777778]\n"
     ]
    }
   ],
   "source": [
    "y_pred_best = clf.predict(X_test)\n",
    "\n",
    "accuracy = accuracy_score(y_true = Y_test, y_pred = y_pred_best)\n",
    "\n",
    "f1 = f1_score(y_true = Y_test, y_pred = y_pred_best, average = None)\n",
    "\n",
    "print('accuracy: ', accuracy)\n",
    "print('F1_score for each class as possitive:\\n', f1)"
   ]
  },
  {
   "cell_type": "markdown",
   "metadata": {
    "colab_type": "text",
    "id": "arHI6mSO19ts"
   },
   "source": [
    "e) Dokonaj augumentacji zbioru danych korzystając z różnych funkcji biblioteki imgaug (crop, rotation, gaussian blur, salt and pepper). Porównaj miary jakości."
   ]
  },
  {
   "cell_type": "code",
   "execution_count": 66,
   "metadata": {
    "colab": {},
    "colab_type": "code",
    "id": "pDvJBK_z2Dp5"
   },
   "outputs": [],
   "source": [
    "def augment(images):\n",
    "    seq = iaa.Sequential(\n",
    "        [\n",
    "            iaa.Crop(px=(1, 2), keep_size=True),\n",
    "            iaa.SomeOf((0, 3),\n",
    "                [\n",
    "                    iaa.Affine(\n",
    "                        scale={\"x\": (0.8, 1.2), \"y\": (0.8, 1.2)},\n",
    "                        rotate=(-20, 20),\n",
    "                        order=[0, 1],\n",
    "                        cval=(0, 255),\n",
    "                        mode=ia.ALL,\n",
    "                    ),\n",
    "                    iaa.GaussianBlur((0, 0.7)),\n",
    "                    iaa.SaltAndPepper(0.12),\n",
    "                ],\n",
    "                random_order=True\n",
    "            )\n",
    "        ]\n",
    "    )\n",
    "\n",
    "    imagesX = images[:, :, :, np.newaxis]\n",
    "    images_aug = seq(images=imagesX)\n",
    "    return [np.squeeze(img) for img in images_aug]\n",
    "\n",
    "X_train_reshaped = X_train.reshape((X_train.shape[0],28,28))\n",
    "X_train_aug_reshaped = augment(X_train_reshaped)\n",
    "\n",
    "X_train_aug = np.asarray(X_train_aug_reshaped).reshape(X_train.shape)\n",
    "\n",
    "# polaczenie poczatkowych danych z zaszumionymi\n",
    "X_train_conc = np.concatenate([X_train, X_train_aug])\n",
    "Y_train_conc = np.concatenate([Y_train, Y_train])\n",
    "\n",
    "X_train_conc, Y_train_conc = shuffle(X_train_conc, Y_train_conc)"
   ]
  },
  {
   "cell_type": "code",
   "execution_count": 67,
   "metadata": {},
   "outputs": [
    {
     "data": {
      "text/html": [
       "<div>\n",
       "<style scoped>\n",
       "    .dataframe tbody tr th:only-of-type {\n",
       "        vertical-align: middle;\n",
       "    }\n",
       "\n",
       "    .dataframe tbody tr th {\n",
       "        vertical-align: top;\n",
       "    }\n",
       "\n",
       "    .dataframe thead th {\n",
       "        text-align: right;\n",
       "    }\n",
       "</style>\n",
       "<table border=\"1\" class=\"dataframe\">\n",
       "  <thead>\n",
       "    <tr style=\"text-align: right;\">\n",
       "      <th></th>\n",
       "      <th>n_neighbors</th>\n",
       "      <th>weights</th>\n",
       "      <th>eval_score</th>\n",
       "    </tr>\n",
       "  </thead>\n",
       "  <tbody>\n",
       "    <tr>\n",
       "      <th>1</th>\n",
       "      <td>5</td>\n",
       "      <td>distance</td>\n",
       "      <td>0.903889</td>\n",
       "    </tr>\n",
       "    <tr>\n",
       "      <th>2</th>\n",
       "      <td>3</td>\n",
       "      <td>distance</td>\n",
       "      <td>0.902222</td>\n",
       "    </tr>\n",
       "    <tr>\n",
       "      <th>3</th>\n",
       "      <td>3</td>\n",
       "      <td>uniform</td>\n",
       "      <td>0.898889</td>\n",
       "    </tr>\n",
       "    <tr>\n",
       "      <th>4</th>\n",
       "      <td>5</td>\n",
       "      <td>uniform</td>\n",
       "      <td>0.896111</td>\n",
       "    </tr>\n",
       "    <tr>\n",
       "      <th>5</th>\n",
       "      <td>2</td>\n",
       "      <td>distance</td>\n",
       "      <td>0.895556</td>\n",
       "    </tr>\n",
       "    <tr>\n",
       "      <th>6</th>\n",
       "      <td>2</td>\n",
       "      <td>uniform</td>\n",
       "      <td>0.882222</td>\n",
       "    </tr>\n",
       "  </tbody>\n",
       "</table>\n",
       "</div>"
      ],
      "text/plain": [
       "   n_neighbors   weights  eval_score\n",
       "1            5  distance    0.903889\n",
       "2            3  distance    0.902222\n",
       "3            3   uniform    0.898889\n",
       "4            5   uniform    0.896111\n",
       "5            2  distance    0.895556\n",
       "6            2   uniform    0.882222"
      ]
     },
     "execution_count": 67,
     "metadata": {},
     "output_type": "execute_result"
    }
   ],
   "source": [
    "knn_aug = KNeighborsClassifier(algorithm='auto')\n",
    "clf_aug = GridSearchCV(knn_aug, params)\n",
    "clf_aug.fit(X_train_conc, Y_train_conc)\n",
    "grid_cv_table(clf_aug.cv_results_)"
   ]
  },
  {
   "cell_type": "code",
   "execution_count": 68,
   "metadata": {},
   "outputs": [
    {
     "name": "stdout",
     "output_type": "stream",
     "text": [
      "accuracy:  0.91\n",
      "F1_score for each class as possitive:\n",
      " [0.94736842 0.95238095 0.88888889 0.72727273 0.92857143 0.93333333\n",
      " 0.94736842 0.93333333 0.9        0.84210526]\n"
     ]
    }
   ],
   "source": [
    "y_pred_best_aug = clf_aug.predict(X_test)\n",
    "accuracy = accuracy_score(y_true = Y_test, y_pred = y_pred_best_aug)\n",
    "f1 = f1_score(y_true = Y_test, y_pred = y_pred_best_aug, average = None)\n",
    "\n",
    "print('accuracy: ', accuracy)\n",
    "print('F1_score for each class as possitive:\\n', f1)"
   ]
  },
  {
   "cell_type": "markdown",
   "metadata": {
    "colab_type": "text",
    "id": "Qcsv88DZ1-s1"
   },
   "source": [
    "\n",
    "\n",
    "f) Wykonaj kroki a-e dla zbioru danych FMNIST (fashion_mnist)."
   ]
  },
  {
   "cell_type": "code",
   "execution_count": 69,
   "metadata": {
    "colab": {},
    "colab_type": "code",
    "id": "IWnLdt8S2FxK"
   },
   "outputs": [],
   "source": [
    "#a) Wczytaj zbiór danych MNIST (np. korzystając z biblioteki Tensorflow).\n",
    "(x_train, y_train), (x_test, y_test) = tf.keras.datasets.fashion_mnist.load_data()"
   ]
  },
  {
   "cell_type": "code",
   "execution_count": 70,
   "metadata": {},
   "outputs": [],
   "source": [
    "# b) wybor 0.03 danych treningowych i 0.01 danych testowych\n",
    "\n",
    "sub_train_size = int(len(x_train)*0.03)\n",
    "sub_test_size = int(len(x_train)*0.01)\n",
    "\n",
    "X_train, Y_train = resample(x_train, y_train, n_samples=sub_train_size, replace=False, random_state=0)\n",
    "X_test, Y_test = resample(x_test, y_test, n_samples=sub_test_size, replace=False, random_state=0)\n",
    "\n",
    "\n",
    "X_train_reshaped = X_train.reshape((X_train.shape[0],-1))\n",
    "X_test_reshaped = X_test.reshape((X_test.shape[0],-1))"
   ]
  },
  {
   "cell_type": "code",
   "execution_count": 71,
   "metadata": {},
   "outputs": [
    {
     "data": {
      "text/html": [
       "<div>\n",
       "<style scoped>\n",
       "    .dataframe tbody tr th:only-of-type {\n",
       "        vertical-align: middle;\n",
       "    }\n",
       "\n",
       "    .dataframe tbody tr th {\n",
       "        vertical-align: top;\n",
       "    }\n",
       "\n",
       "    .dataframe thead th {\n",
       "        text-align: right;\n",
       "    }\n",
       "</style>\n",
       "<table border=\"1\" class=\"dataframe\">\n",
       "  <thead>\n",
       "    <tr style=\"text-align: right;\">\n",
       "      <th></th>\n",
       "      <th>n_neighbors</th>\n",
       "      <th>weights</th>\n",
       "      <th>eval_score</th>\n",
       "    </tr>\n",
       "  </thead>\n",
       "  <tbody>\n",
       "    <tr>\n",
       "      <th>1</th>\n",
       "      <td>3</td>\n",
       "      <td>distance</td>\n",
       "      <td>0.776667</td>\n",
       "    </tr>\n",
       "    <tr>\n",
       "      <th>2</th>\n",
       "      <td>3</td>\n",
       "      <td>uniform</td>\n",
       "      <td>0.776111</td>\n",
       "    </tr>\n",
       "    <tr>\n",
       "      <th>3</th>\n",
       "      <td>5</td>\n",
       "      <td>distance</td>\n",
       "      <td>0.775556</td>\n",
       "    </tr>\n",
       "    <tr>\n",
       "      <th>4</th>\n",
       "      <td>5</td>\n",
       "      <td>uniform</td>\n",
       "      <td>0.774444</td>\n",
       "    </tr>\n",
       "    <tr>\n",
       "      <th>5</th>\n",
       "      <td>2</td>\n",
       "      <td>uniform</td>\n",
       "      <td>0.763889</td>\n",
       "    </tr>\n",
       "    <tr>\n",
       "      <th>6</th>\n",
       "      <td>2</td>\n",
       "      <td>distance</td>\n",
       "      <td>0.761667</td>\n",
       "    </tr>\n",
       "  </tbody>\n",
       "</table>\n",
       "</div>"
      ],
      "text/plain": [
       "   n_neighbors   weights  eval_score\n",
       "1            3  distance    0.776667\n",
       "2            3   uniform    0.776111\n",
       "3            5  distance    0.775556\n",
       "4            5   uniform    0.774444\n",
       "5            2   uniform    0.763889\n",
       "6            2  distance    0.761667"
      ]
     },
     "execution_count": 71,
     "metadata": {},
     "output_type": "execute_result"
    }
   ],
   "source": [
    "# c) stworzenie klasyfikatora k-NN\n",
    "params = {\n",
    "  'n_neighbors': (2, 3, 5),\n",
    "  'weights': ('uniform', 'distance')\n",
    "}\n",
    "knn = KNeighborsClassifier(algorithm='auto')\n",
    "clf = GridSearchCV(knn, params)\n",
    "clf.fit(X_train_reshaped, Y_train)\n",
    "grid_cv_table(clf.cv_results_)"
   ]
  },
  {
   "cell_type": "code",
   "execution_count": 73,
   "metadata": {},
   "outputs": [
    {
     "name": "stdout",
     "output_type": "stream",
     "text": [
      "accuracy:  0.7983333333333333\n",
      "F1_score for each class as possitive:\n",
      " [0.75806452 0.95412844 0.7079646  0.87769784 0.64912281 0.81904762\n",
      " 0.43809524 0.90625    0.88135593 0.91034483]\n"
     ]
    }
   ],
   "source": [
    "# d) pomiar jakosci\n",
    "\n",
    "y_pred_best = clf.predict(X_test_reshaped)\n",
    "accuracy = accuracy_score(y_true = Y_test, y_pred = y_pred_best)\n",
    "f1 = f1_score(y_true = Y_test, y_pred = y_pred_best, average = None)\n",
    "\n",
    "print('accuracy: ', accuracy)\n",
    "print('F1_score for each class as possitive:\\n', f1)"
   ]
  },
  {
   "cell_type": "code",
   "execution_count": 75,
   "metadata": {},
   "outputs": [
    {
     "data": {
      "text/html": [
       "<div>\n",
       "<style scoped>\n",
       "    .dataframe tbody tr th:only-of-type {\n",
       "        vertical-align: middle;\n",
       "    }\n",
       "\n",
       "    .dataframe tbody tr th {\n",
       "        vertical-align: top;\n",
       "    }\n",
       "\n",
       "    .dataframe thead th {\n",
       "        text-align: right;\n",
       "    }\n",
       "</style>\n",
       "<table border=\"1\" class=\"dataframe\">\n",
       "  <thead>\n",
       "    <tr style=\"text-align: right;\">\n",
       "      <th></th>\n",
       "      <th>n_neighbors</th>\n",
       "      <th>weights</th>\n",
       "      <th>eval_score</th>\n",
       "    </tr>\n",
       "  </thead>\n",
       "  <tbody>\n",
       "    <tr>\n",
       "      <th>1</th>\n",
       "      <td>3</td>\n",
       "      <td>distance</td>\n",
       "      <td>0.776667</td>\n",
       "    </tr>\n",
       "    <tr>\n",
       "      <th>2</th>\n",
       "      <td>3</td>\n",
       "      <td>uniform</td>\n",
       "      <td>0.776111</td>\n",
       "    </tr>\n",
       "    <tr>\n",
       "      <th>3</th>\n",
       "      <td>5</td>\n",
       "      <td>distance</td>\n",
       "      <td>0.775556</td>\n",
       "    </tr>\n",
       "    <tr>\n",
       "      <th>4</th>\n",
       "      <td>5</td>\n",
       "      <td>uniform</td>\n",
       "      <td>0.774444</td>\n",
       "    </tr>\n",
       "    <tr>\n",
       "      <th>5</th>\n",
       "      <td>2</td>\n",
       "      <td>uniform</td>\n",
       "      <td>0.763889</td>\n",
       "    </tr>\n",
       "    <tr>\n",
       "      <th>6</th>\n",
       "      <td>2</td>\n",
       "      <td>distance</td>\n",
       "      <td>0.761667</td>\n",
       "    </tr>\n",
       "  </tbody>\n",
       "</table>\n",
       "</div>"
      ],
      "text/plain": [
       "   n_neighbors   weights  eval_score\n",
       "1            3  distance    0.776667\n",
       "2            3   uniform    0.776111\n",
       "3            5  distance    0.775556\n",
       "4            5   uniform    0.774444\n",
       "5            2   uniform    0.763889\n",
       "6            2  distance    0.761667"
      ]
     },
     "execution_count": 75,
     "metadata": {},
     "output_type": "execute_result"
    }
   ],
   "source": [
    "# e) augmentacja danych (salt and pepper)\n",
    "\n",
    "X_train_aug = np.copy(X_train)\n",
    "for i in range(X_train_aug.shape[0]):\n",
    "    for j in range(X_train_aug.shape[1]):\n",
    "        for k in range(X_train_aug.shape[2]):\n",
    "            if np.random.rand() < 0.15:\n",
    "                X_train_aug[i][j][k] = np.random.randint(0,256)\n",
    "            \n",
    "# polaczenie pierwotnych danych z zaszumionymi\n",
    "X_train_conc = np.concatenate([X_train, X_train_aug])\n",
    "Y_train_conc = np.concatenate([Y_train, Y_train])\n",
    "\n",
    "# przetasowanie \n",
    "X_train_conc, Y_train_conc = shuffle(X_train_conc, Y_train_conc)\n",
    "\n",
    "# stworzenie klasyfikatora\n",
    "knn_aug = KNeighborsClassifier(algorithm='auto')\n",
    "clf_aug = GridSearchCV(knn_aug, params)\n",
    "clf_aug.fit(X_train_conc.reshape((X_train_conc.shape[0], -1)), Y_train_conc)\n",
    "grid_cv_table(clf_aug.cv_results_)"
   ]
  },
  {
   "cell_type": "code",
   "execution_count": 76,
   "metadata": {},
   "outputs": [
    {
     "name": "stdout",
     "output_type": "stream",
     "text": [
      "accuracy:  0.7883333333333333\n",
      "F1_score for each class as possitive:\n",
      " [0.72881356 0.97297297 0.66055046 0.86524823 0.66071429 0.82242991\n",
      " 0.41071429 0.90625    0.88888889 0.89655172]\n"
     ]
    }
   ],
   "source": [
    "# pomiary jakosci\n",
    "\n",
    "y_pred_best_aug = clf_aug.predict(X_test_reshaped)\n",
    "accuracy = accuracy_score(y_true = Y_test, y_pred = y_pred_best_aug)\n",
    "f1 = f1_score(y_true = Y_test, y_pred = y_pred_best_aug, average = None)\n",
    "\n",
    "print('accuracy: ', accuracy)\n",
    "print('F1_score for each class as possitive:\\n', f1)"
   ]
  }
 ],
 "metadata": {
  "colab": {
   "collapsed_sections": [],
   "name": "tuto1.ipynb",
   "provenance": [],
   "toc_visible": true
  },
  "kernelspec": {
   "display_name": "Python 3",
   "language": "python",
   "name": "python3"
  },
  "language_info": {
   "codemirror_mode": {
    "name": "ipython",
    "version": 3
   },
   "file_extension": ".py",
   "mimetype": "text/x-python",
   "name": "python",
   "nbconvert_exporter": "python",
   "pygments_lexer": "ipython3",
   "version": "3.8.1"
  }
 },
 "nbformat": 4,
 "nbformat_minor": 1
}
